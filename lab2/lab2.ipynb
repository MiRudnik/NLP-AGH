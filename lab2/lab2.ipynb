{
 "cells": [
  {
   "cell_type": "markdown",
   "metadata": {},
   "source": [
    "## Lab 2 - Lemmatization and full text search"
   ]
  },
  {
   "cell_type": "code",
   "execution_count": 1,
   "metadata": {},
   "outputs": [],
   "source": [
    "import os\n",
    "from elasticsearch import Elasticsearch"
   ]
  },
  {
   "cell_type": "markdown",
   "metadata": {},
   "source": [
    "### Tasks 1 & 2\n",
    "Installing elasticsearch and plugins.  \n",
    "Elasticsearch must be running in the background."
   ]
  },
  {
   "cell_type": "code",
   "execution_count": 2,
   "metadata": {},
   "outputs": [
    {
     "data": {
      "text/plain": [
       "'analysis-morfologik 7.9.2 Morfologik Polish Lemmatizer plugin for Elasticsearch\\n'"
      ]
     },
     "execution_count": 2,
     "metadata": {},
     "output_type": "execute_result"
    }
   ],
   "source": [
    "es = Elasticsearch()\n",
    "es.cat.plugins(params={'h': 'component,version,description'})"
   ]
  },
  {
   "cell_type": "markdown",
   "metadata": {},
   "source": [
    "### Task 3\n",
    "Lowercase filter was available by default, Morfologik-based lemmatizer is from the plugin `morfologic_stem`, and for synonyms - filter of that type was created."
   ]
  },
  {
   "cell_type": "code",
   "execution_count": 3,
   "metadata": {},
   "outputs": [],
   "source": [
    "index_config = {\n",
    "    \"analysis\": {\n",
    "        \"filter\": {\n",
    "            \"legislative_synonym_filter\": {\n",
    "                \"type\":\"synonym\",\n",
    "                \"synonyms\": [\n",
    "                    \"kpk => kodeks postępowania karnego\",\n",
    "                    \"kpc => kodeks postępowania cywilnego\",\n",
    "                    \"kk => kodeks karny\",\n",
    "                    \"kc => kodeks cywilny\"\n",
    "                ]\n",
    "            }\n",
    "        },\n",
    "        \"analyzer\": {\n",
    "            \"default\": {\n",
    "                \"type\":\"custom\",\n",
    "                \"tokenizer\":\"standard\",\n",
    "                \"filter\": [\n",
    "                    \"lowercase\", \n",
    "                    \"legislative_synonym_filter\", \n",
    "                    \"morfologik_stem\"\n",
    "                ]\n",
    "            }\n",
    "        }\n",
    "    }\n",
    "}"
   ]
  },
  {
   "cell_type": "markdown",
   "metadata": {},
   "source": [
    "### Task 4"
   ]
  },
  {
   "cell_type": "code",
   "execution_count": 4,
   "metadata": {},
   "outputs": [
    {
     "data": {
      "text/plain": [
       "{'acknowledged': True, 'shards_acknowledged': True, 'index': 'polish_bills'}"
      ]
     },
     "execution_count": 4,
     "metadata": {},
     "output_type": "execute_result"
    }
   ],
   "source": [
    "index_name = \"polish_bills\"\n",
    "\n",
    "if es.indices.exists(index=index_name): # in case of multiple runs, delete if index already exists\n",
    "    es.indices.delete(index=index_name)\n",
    "\n",
    "es.indices.create(index=index_name, body={\"settings\": index_config})"
   ]
  },
  {
   "cell_type": "markdown",
   "metadata": {},
   "source": [
    "### Task 5"
   ]
  },
  {
   "cell_type": "code",
   "execution_count": 5,
   "metadata": {},
   "outputs": [],
   "source": [
    "bills_dir = \"../bills/\"\n",
    "bills_files = os.listdir(bills_dir)\n",
    "\n",
    "for file_path in [bills_dir + filename for filename in  bills_files]:\n",
    "    with open(file_path, 'r', encoding='utf-8') as file:\n",
    "        text = file.read()\n",
    "    \n",
    "    es.index(index=index_name, body={\"filename\": file_path[len(bills_dir):], \"text\": text})"
   ]
  },
  {
   "cell_type": "markdown",
   "metadata": {},
   "source": [
    "Check if all files were added:"
   ]
  },
  {
   "cell_type": "code",
   "execution_count": 6,
   "metadata": {},
   "outputs": [
    {
     "name": "stdout",
     "output_type": "stream",
     "text": [
      "True\n"
     ]
    }
   ],
   "source": [
    "print(len(es.search(index=index_name, size=1500)['hits']['hits']) == len(bills_files))"
   ]
  },
  {
   "cell_type": "markdown",
   "metadata": {},
   "source": [
    "### Task 6\n",
    "\n",
    "https://www.elastic.co/guide/en/elasticsearch/reference/current/query-dsl-match-query.html"
   ]
  },
  {
   "cell_type": "code",
   "execution_count": 7,
   "metadata": {},
   "outputs": [
    {
     "name": "stdout",
     "output_type": "stream",
     "text": [
      "There is 1179 acts with word 'ustawa' in them.\n"
     ]
    }
   ],
   "source": [
    "match_query_1 = es.search(index=index_name, body={\"query\": {\"match\": {\"text\": \"ustawa\"}}})\n",
    "print(\"There is {} acts with word 'ustawa' in them.\".format(match_query_1[\"hits\"][\"total\"][\"value\"]))"
   ]
  },
  {
   "cell_type": "markdown",
   "metadata": {},
   "source": [
    "There is 1180 files so only one file didn't have a word `ustawa` in it."
   ]
  },
  {
   "cell_type": "markdown",
   "metadata": {},
   "source": [
    "### Task 7\n",
    "https://www.elastic.co/guide/en/elasticsearch/reference/current/query-dsl-match-query-phrase.html"
   ]
  },
  {
   "cell_type": "code",
   "execution_count": 8,
   "metadata": {},
   "outputs": [
    {
     "name": "stdout",
     "output_type": "stream",
     "text": [
      "There is 100 acts with phrase 'kodeks postępowania cywilnego' in any form.\n"
     ]
    }
   ],
   "source": [
    "match_query_2 = es.search(index=index_name, body={\"query\": {\"match_phrase\": {\"text\": \"kodeks postępowania cywilnego\"}}})\n",
    "print(\"There is {} acts with phrase 'kodeks postępowania cywilnego' in any form.\"\n",
    "      .format(match_query_2[\"hits\"][\"total\"][\"value\"]))"
   ]
  },
  {
   "cell_type": "markdown",
   "metadata": {},
   "source": [
    "### Task 8\n",
    "The slop parameter allows additional terms in the searched phrase (in this case, slop=2 allows for up to two additional words in phrase `wchodzi w życie`). "
   ]
  },
  {
   "cell_type": "code",
   "execution_count": 9,
   "metadata": {},
   "outputs": [
    {
     "name": "stdout",
     "output_type": "stream",
     "text": [
      "Number of acts with phrase 'wchodzi w życie' (and slop=2): 1175\n"
     ]
    }
   ],
   "source": [
    "query = {\n",
    "    \"query\": {\n",
    "        \"match_phrase\": {\n",
    "            \"text\": {\n",
    "                \"query\": \"wchodzi w życie\",\n",
    "                \"slop\": 2\n",
    "            }\n",
    "        }\n",
    "    }\n",
    "}\n",
    "\n",
    "match_query_3 = es.search(index=index_name, body=query)\n",
    "print(\"Number of acts with phrase 'wchodzi w życie' (and slop=2): {}\".format(match_query_3[\"hits\"][\"total\"][\"value\"]))"
   ]
  },
  {
   "cell_type": "markdown",
   "metadata": {},
   "source": [
    "### Task 9\n",
    "\n",
    "Results are already sorted by relevance (parameter `_score`):"
   ]
  },
  {
   "cell_type": "code",
   "execution_count": 10,
   "metadata": {},
   "outputs": [
    {
     "name": "stdout",
     "output_type": "stream",
     "text": [
      "[{'_index': 'polish_bills', '_type': '_doc', '_id': '0QG7SnUBBtupf1htoz1V', '_score': 6.8715763}, {'_index': 'polish_bills', '_type': '_doc', '_id': '0AG7SnUBBtupf1htxz7P', '_score': 6.6677475}, {'_index': 'polish_bills', '_type': '_doc', '_id': 'zwG7SnUBBtupf1htoz0f', '_score': 6.63778}]\n"
     ]
    }
   ],
   "source": [
    "match_query_4 = es.search(index=index_name, body={\"query\": {\"match\": {\"text\": \"konstytucja\"}}, \"size\": 10})\n",
    "# not displaying the file itself for readability\n",
    "print([{k: v for k, v in res.items() if k != \"_source\"} for res in match_query_4[\"hits\"][\"hits\"][:3]])"
   ]
  },
  {
   "cell_type": "markdown",
   "metadata": {},
   "source": [
    "Top 10 most relevant acts for the phrase `konstytucja`: "
   ]
  },
  {
   "cell_type": "code",
   "execution_count": 11,
   "metadata": {},
   "outputs": [
    {
     "name": "stdout",
     "output_type": "stream",
     "text": [
      "['1997_629.txt', '2000_443.txt', '1997_604.txt', '1996_350.txt', '1997_642.txt', '2001_23.txt', '1996_199.txt', '1999_688.txt', '1997_681.txt', '2001_1082.txt']\n"
     ]
    }
   ],
   "source": [
    "most_relevant = [m[\"_source\"][\"filename\"] for m in match_query_4[\"hits\"][\"hits\"]]\n",
    "print(most_relevant)"
   ]
  },
  {
   "cell_type": "markdown",
   "metadata": {},
   "source": [
    "### Task 10\n",
    "\n",
    "https://www.elastic.co/guide/en/elasticsearch/reference/current/highlighting.html"
   ]
  },
  {
   "cell_type": "code",
   "execution_count": 12,
   "metadata": {},
   "outputs": [
    {
     "name": "stdout",
     "output_type": "stream",
     "text": [
      "\n",
      "1997_629.txt:\n",
      "\to zmianie ustawy konstytucyjnej o trybie przygotowania\n",
      "           i uchwalenia <em>Konstytucji</em> Rzeczypospolitej\n",
      "\tW ustawie  konstytucyjnej z  dnia 23 kwietnia 1992 r. o trybie przygotowania i \n",
      "uchwalenia <em>Konstytucji</em>\n",
      "\tDo zgłoszenia projektu <em>Konstytucji</em> załącza się wykaz \n",
      "                obywateli popierających zgłoszenie)\n",
      "\n",
      "2000_443.txt:\n",
      "\tumowy międzynarodowej i nie wypełnia przesłanek określonych w art. 89\n",
      "     ust. 1 lub art. 90 <em>Konstytucji</em>\n",
      "\tmiędzynarodowej lub załącznika nie\n",
      "     wypełnia przesłanek określonych w art. 89 ust. 1 lub art. 90 <em>Konstytucji</em>\n",
      "\tco do zasadności wyboru\n",
      "  trybu ratyfikacji umowy międzynarodowej, o którym mowa w art. 89 ust. 2\n",
      "  <em>Konstytucji</em>)\n",
      "\n",
      "1997_604.txt:\n",
      "\tJeżeli Trybunał Konstytucyjny wyda orzeczenie o sprzeczności celów partii \n",
      "   politycznej z <em>Konstytucją</em>\n",
      "\tJeżeli Trybunał Konstytucyjny wyda orzeczenie o sprzeczności z <em>Konstytucją</em>\n",
      "   celów lub działalności\n",
      "\tCiężar udowodnienia niezgodności z <em>Konstytucją</em> spoczywa\n",
      "                na wnioskodawcy, który w tym)\n",
      "\n",
      "1996_350.txt:\n",
      "\tZa naruszenie <em>Konstytucji</em> lub ustawy, w związku z zajmowanym\n",
      "              stanowiskiem lub w zakresie\n",
      "\tW zakresie określonym w art. 107 <em>Konstytucji</em> odpowiedzialność przed\n",
      "           Trybunałem Stanu ponoszą\n",
      "\tCzłonkowie Rady Ministrów ponoszą odpowiedzialność przed Trybunałem\n",
      "           Stanu za naruszenie <em>Konstytucji</em>)\n",
      "\n",
      "1997_642.txt:\n",
      "\twnioskami o:\n",
      "             1) stwierdzenie zgodności ustaw i umów międzynarodowych z\n",
      "               <em>Konstytucją</em>\n",
      "\tstwierdzenie zgodności przepisów prawa wydawanych przez\n",
      "               centralne organy państwowe, z <em>Konstytucją</em>\n",
      "\tratyfikowanymi\n",
      "               umowami międzynarodowymi i ustawami,\n",
      "             4) stwierdzenie zgodności z <em>Konstytucją</em>)\n",
      "\n",
      "2001_23.txt:\n",
      "\tW Dzienniku Ustaw Rzeczypospolitej Polskiej, zwanym dalej \"Dziennikiem\n",
      "  Ustaw\", ogłasza się:\n",
      "   1) <em>Konstytucję</em>\n",
      "\takty prawne dotyczące:\n",
      "   1) stanu wojny i zawarcia pokoju,\n",
      "   2) referendum zatwierdzającego zmianę <em>Konstytucji</em>\n",
      "\tministra, któremu Sejm wyraził wotum nieufności,\n",
      "     h) powoływania lub odwoływania na określone w <em>Konstytucji</em>)\n",
      "\n",
      "1996_199.txt:\n",
      "\t2c i art. 9-11 ustawy konstytucyjnej z dnia 23 kwietnia \n",
      "1992 r. o trybie przygotowania i uchwalenia <em>Konstytucji</em>\n",
      "\tPrezydent Rzeczypospolitej Polskiej zarządza poddanie <em>Konstytucji</em> pod referendum\n",
      "   w trybie określonym\n",
      "\tPrzyjęcie w referendum <em>Konstytucji</em> następuje wówczas, gdy opowiedziała \n",
      "   się za nią większość biorących)\n",
      "\n",
      "1999_688.txt:\n",
      "\tpostępowania w sprawie wykonywania inicjatywy\n",
      "ustawodawczej przez obywateli, o której mowa w art. 118 ust. 2 <em>Konstytucji</em>\n",
      "\tProjekt ustawy nie może dotyczyć spraw, dla których <em>Konstytucja</em>\n",
      "Rzeczypospolitej Polskiej zastrzega wyłączną\n",
      "\tProjekt ustawy wniesiony do Marszałka Sejmu powinien odpowiadać wymogom\n",
      "  zawartym w <em>Konstytucji</em> i Regulaminie)\n",
      "\n",
      "1997_681.txt:\n",
      "\tRzecznik Praw Dziecka, zwany dalej Rzecznikiem, stoi na straży praw dziecka\n",
      "  określonych w <em>Konstytucji</em>\n",
      "\turoczyście, że przy wykonywaniu powierzonych mi obowiązków\n",
      "     Rzecznika Praw Dziecka dochowam wierności <em>Konstytucji</em>)\n",
      "\n",
      "2001_1082.txt:\n",
      "\tKrajowa Rada Sądownictwa, zwana dalej \"Radą\", realizuje cele określone w\n",
      "  <em>Konstytucji</em> Rzeczypospolitej\n",
      "\t) podejmuje uchwały w sprawach wystąpienia do Trybunału Konstytucyjnego o\n",
      "     zbadanie zgodności z <em>Konstytucją</em>)\n"
     ]
    }
   ],
   "source": [
    "query = {\n",
    "    \"query\": {\n",
    "        \"match\": {\n",
    "            \"text\": \"konstytucja\"\n",
    "        },\n",
    "    },\n",
    "    \"size\" : 10, # top 10 acts\n",
    "    \"highlight\": {\n",
    "        \"fields\": {\n",
    "            \"text\": {} # highlighting content of a bill, no additional settings\n",
    "        },\n",
    "        \"number_of_fragments\": 3 # number of excerpts\n",
    "    }\n",
    "}\n",
    "    \n",
    "match_query_5 = es.search(index=index_name, body=query)\n",
    "highlights = [{\"filename\": res[\"_source\"][\"filename\"], \"highlights\": res[\"highlight\"][\"text\"]} \n",
    "              for res in match_query_5[\"hits\"][\"hits\"]]\n",
    "\n",
    "for h in highlights:\n",
    "    print(\"\\n{}:\\n\\t{})\".format(h[\"filename\"], \"\\n\\t\".join(h[\"highlights\"])))"
   ]
  }
 ],
 "metadata": {
  "kernelspec": {
   "display_name": "Python 3",
   "language": "python",
   "name": "python3"
  },
  "language_info": {
   "codemirror_mode": {
    "name": "ipython",
    "version": 3
   },
   "file_extension": ".py",
   "mimetype": "text/x-python",
   "name": "python",
   "nbconvert_exporter": "python",
   "pygments_lexer": "ipython3",
   "version": "3.7.3"
  }
 },
 "nbformat": 4,
 "nbformat_minor": 4
}
