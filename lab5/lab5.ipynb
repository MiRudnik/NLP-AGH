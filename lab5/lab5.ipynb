{
 "cells": [
  {
   "cell_type": "code",
   "execution_count": 11,
   "metadata": {},
   "outputs": [],
   "source": [
    "import math\n",
    "import os\n",
    "import requests\n",
    "\n",
    "from collections import Counter"
   ]
  },
  {
   "cell_type": "markdown",
   "metadata": {},
   "source": [
    "### Task 1\n",
    "\n",
    "Tagger set up and will be used via post requests."
   ]
  },
  {
   "cell_type": "code",
   "execution_count": 2,
   "metadata": {},
   "outputs": [
    {
     "name": "stdout",
     "output_type": "stream",
     "text": [
      "Ala\tnone\n",
      "\tAla\tsubst:sg:nom:f\tdisamb\n",
      "ma\tspace\n",
      "\tmieć\tfin:sg:ter:imperf\tdisamb\n",
      "kota\tspace\n",
      "\tkot\tsubst:sg:acc:m2\tdisamb\n",
      ".\tnone\n",
      "\t.\tinterp\tdisamb\n",
      "\n",
      "\n"
     ]
    }
   ],
   "source": [
    "print(requests.post('http://localhost:9200', data=\"Ala ma kota.\").text)"
   ]
  },
  {
   "cell_type": "markdown",
   "metadata": {},
   "source": [
    "### Tasks 2 & 3\n",
    "Only lines containing elements are valuable, it is not exactly every second line (there are some empty lines)."
   ]
  },
  {
   "cell_type": "code",
   "execution_count": 3,
   "metadata": {},
   "outputs": [
    {
     "name": "stdout",
     "output_type": "stream",
     "text": [
      "[((('artykuł', 'brev'), ('.', 'interp')), 84197), ((('ustęp', 'brev'), ('.', 'interp')), 53367), ((('pozycja', 'brev'), ('.', 'interp')), 45473), (((',', 'interp'), ('pozycja', 'brev')), 43373), ((('.', 'interp'), ('1', 'adj')), 40014)]\n"
     ]
    }
   ],
   "source": [
    "bills_dir = \"../bills/\"\n",
    "bills_files = os.listdir(bills_dir)\n",
    "\n",
    "bigram_counts = Counter()\n",
    "\n",
    "for file_path in [bills_dir + filename for filename in  bills_files]:\n",
    "    with open(file_path, 'r', encoding='utf-8') as file:\n",
    "        text = file.read().lower()  # whole text in lowercase\n",
    "        \n",
    "    result = requests.post('http://localhost:9200', data=text.encode('utf-8')).text.split('\\n')\n",
    "\n",
    "    prev_element = (\".\", \".\")  # non letters, will be discarded\n",
    "    for line in result:\n",
    "        line = line.split()\n",
    "        if len(line) == 3:\n",
    "            word, tag, _ = line\n",
    "            element = (word, tag.split(\":\")[0])\n",
    "            bigram_counts[(prev_element, element)] += 1\n",
    "            prev_element = element\n",
    "            \n",
    "print(bigram_counts.most_common(5))"
   ]
  },
  {
   "cell_type": "markdown",
   "metadata": {},
   "source": [
    "### Task 4\n",
    "\n",
    "Dropping AFTER getting all bigram counts."
   ]
  },
  {
   "cell_type": "code",
   "execution_count": 5,
   "metadata": {},
   "outputs": [
    {
     "name": "stdout",
     "output_type": "stream",
     "text": [
      "[((('w', 'prep'), ('artykuł', 'brev')), 32184), ((('o', 'prep'), ('który', 'adj')), 28762), ((('który', 'adj'), ('mowa', 'subst')), 28644), ((('mowa', 'subst'), ('w', 'prep')), 28579), ((('w', 'prep'), ('ustęp', 'brev')), 23564)]\n"
     ]
    }
   ],
   "source": [
    "for key in list(bigram_counts.keys()):\n",
    "    (w1, _), (w2, _) = key\n",
    "    if not w1.isalpha() or not w2.isalpha():\n",
    "        bigram_counts.pop(key)\n",
    "        \n",
    "print(bigram_counts.most_common(5))"
   ]
  },
  {
   "cell_type": "markdown",
   "metadata": {},
   "source": [
    "### Task 6\n",
    "The same implementation of LLR as in previous exercise."
   ]
  },
  {
   "cell_type": "code",
   "execution_count": 9,
   "metadata": {},
   "outputs": [],
   "source": [
    "all_bigrams = sum(bigram_counts.values())\n",
    "\n",
    "first_tokens = Counter()\n",
    "second_tokens = Counter()\n",
    "\n",
    "for bigram, value in bigram_counts.items():\n",
    "    first_tokens[bigram[0]] += value\n",
    "    second_tokens[bigram[1]] += value"
   ]
  },
  {
   "cell_type": "code",
   "execution_count": 12,
   "metadata": {},
   "outputs": [],
   "source": [
    "def H(k, N=all_bigrams):\n",
    "    return sum([k_i / N * math.log(k_i / N + (k_i == 0)) for k_i in k])\n",
    "\n",
    "\n",
    "bigrams_LLR = {}\n",
    "\n",
    "for bigram, value in bigram_counts.items():\n",
    "    k11 = value\n",
    "    k12 = second_tokens[bigram[1]] - value\n",
    "    k21 = first_tokens[bigram[0]] - value\n",
    "    k22 = all_bigrams - (k11 + k12 + k21)\n",
    "    \n",
    "    # 2 * N * ( H(k_default) - H(k_rows_summed) - H(k_cols_summed) )\n",
    "    bigrams_LLR[bigram] = 2 * all_bigrams * (H([k11, k12, k21, k22]) - H([k11 + k12, k21 + k22]) - H([k11 + k21, k12 + k22]))"
   ]
  },
  {
   "cell_type": "code",
   "execution_count": 15,
   "metadata": {},
   "outputs": [
    {
     "name": "stdout",
     "output_type": "stream",
     "text": [
      "[((('ustawa', 'subst'), ('z', 'prep')), 42103.3587276636), ((('z', 'prep'), ('dzień', 'subst')), 53719.01511066644), ((('o', 'prep'), ('zmiana', 'subst')), 4524.516023343441), ((('zmiana', 'subst'), ('ustawa', 'subst')), 4469.344251147419), ((('ustawa', 'subst'), ('o', 'prep')), 4768.322820801322)]\n"
     ]
    }
   ],
   "source": [
    "print(list(bigrams_LLR.items())[:5])"
   ]
  },
  {
   "cell_type": "markdown",
   "metadata": {},
   "source": [
    "### Task 7\n",
    "For partitioning created dict of dicts with all the needed data. Old dict might be removed now."
   ]
  },
  {
   "cell_type": "code",
   "execution_count": 16,
   "metadata": {},
   "outputs": [],
   "source": [
    "partitions = {}\n",
    "partitions_sums = Counter()  # helper to get the top 10 faster\n",
    "\n",
    "for bigram, value in bigram_counts.items():\n",
    "    (_, cat1), (_, cat2) = bigram\n",
    "    if (cat1, cat2) not in partitions:\n",
    "        partitions[(cat1, cat2)] = Counter()\n",
    "    partitions[(cat1, cat2)][bigram] = value\n",
    "    partitions_sums[(cat1, cat2)] += value\n",
    "    \n",
    "# bigram_counts.clear()"
   ]
  },
  {
   "cell_type": "markdown",
   "metadata": {},
   "source": [
    "### Task 8"
   ]
  },
  {
   "cell_type": "code",
   "execution_count": 20,
   "metadata": {},
   "outputs": [
    {
     "data": {
      "text/plain": [
       "[(('prep', 'subst'), 327378),\n",
       " (('subst', 'subst'), 290104),\n",
       " (('subst', 'adj'), 274761),\n",
       " (('adj', 'subst'), 188238),\n",
       " (('subst', 'prep'), 173254),\n",
       " (('subst', 'conj'), 85145),\n",
       " (('conj', 'subst'), 84393),\n",
       " (('prep', 'adj'), 79459),\n",
       " (('ger', 'subst'), 77510),\n",
       " (('prep', 'brev'), 67230)]"
      ]
     },
     "execution_count": 20,
     "metadata": {},
     "output_type": "execute_result"
    }
   ],
   "source": [
    "partitions_sums.most_common(10)"
   ]
  },
  {
   "cell_type": "markdown",
   "metadata": {},
   "source": [
    "### Task 9\n",
    "\n",
    "Sorting bigrams by LLR score descending and printing top 5 pairs for each of the category pairs above."
   ]
  },
  {
   "cell_type": "code",
   "execution_count": 28,
   "metadata": {},
   "outputs": [
    {
     "name": "stdout",
     "output_type": "stream",
     "text": [
      "prep - subst:\n",
      "\tz dzień - score 53719.01511066644\n",
      "\tna podstawa - score 47390.74094334523\n",
      "\tdo sprawa - score 46330.491514938025\n",
      "\tw droga - score 32061.652843175118\n",
      "\tod dzień - score 31769.65610444706\n",
      "subst - subst:\n",
      "\tdroga rozporządzenie - score 54074.098685296\n",
      "\tskarb państwo - score 21933.42719414035\n",
      "\trada minister - score 18307.859865915794\n",
      "\tterytorium rzeczpospolita - score 14282.498596292238\n",
      "\tochrona środowisko - score 14029.89436117486\n",
      "subst - adj:\n",
      "\tminister właściwy - score 71011.96509014728\n",
      "\trzeczpospolita polski - score 43291.456752802434\n",
      "\tjednostka organizacyjny - score 24612.579437237084\n",
      "\tsamorząd terytorialny - score 23394.073680596783\n",
      "\tprodukt leczniczy - score 21913.30289879499\n",
      "adj - subst:\n",
      "\tktóry mowa - score 249004.7889867908\n",
      "\tniniejszy ustawa - score 21508.981199226586\n",
      "\tnastępujący zmiana - score 18162.46590885003\n",
      "\todrębny przepis - score 13058.75727457624\n",
      "\twalny zgromadzenie - score 9655.361888330419\n",
      "subst - prep:\n",
      "\tmowa w - score 177749.45525470216\n",
      "\tustawa z - score 42103.3587276636\n",
      "\twniosek o - score 16433.94290737001\n",
      "\tdzień od - score 13931.409709574164\n",
      "\tmiesiąc od - score 12378.38489408969\n",
      "subst - conj:\n",
      "\tprzecinek i - score 3958.004458087763\n",
      "\twolność albo - score 2266.929636706272\n",
      "\timię i - score 2256.5428282887865\n",
      "\tcałość lub - score 2188.8916280864382\n",
      "\tzasada i - score 1908.5357932095424\n",
      "conj - subst:\n",
      "\ti tryb - score 4699.817799953538\n",
      "\ti nazwisko - score 2616.762011136497\n",
      "\ti usługa - score 1879.7562785137557\n",
      "\ti adres - score 1753.7097226709316\n",
      "\ti wychowanie - score 1461.0196670486105\n",
      "prep - adj:\n",
      "\to który - score 191025.39199924725\n",
      "\tza każdy - score 1364.2493585670318\n",
      "\tw ten - score 1305.0058796837461\n",
      "\tw właściwy - score 1289.9712985222975\n",
      "\tprzez ten - score 1024.9068481357608\n",
      "ger - subst:\n",
      "\tzasięgnąć opinia - score 11526.495901289367\n",
      "\tpozbawić wolność - score 11285.63778802572\n",
      "\twykonywać zawód - score 5572.84477759514\n",
      "\tzawrzeć umowa - score 5267.706014119462\n",
      "\twszcząć postępowanie - score 5126.574507592425\n",
      "prep - brev:\n",
      "\tw artykuł - score 114318.38029689311\n",
      "\tw ustęp - score 88415.09342763922\n",
      "\tw punkt - score 10974.362226837166\n",
      "\tz późniejszy - score 7667.832125096216\n",
      "\tw dziennik - score 4721.1568843089035\n"
     ]
    }
   ],
   "source": [
    "bigrams_LLR = {k: v for k, v in sorted(bigrams_LLR.items(), key=lambda item: item[1], reverse=True)} # sort by value descending\n",
    "\n",
    "for (cat1, cat2), _ in partitions_sums.most_common(10):\n",
    "    print(\"{} - {}:\".format(cat1, cat2))\n",
    "    i = 0\n",
    "    for ((w1, c1), (w2, c2)), value in bigrams_LLR.items():\n",
    "        if c1 == cat1 and c2 == cat2:\n",
    "            print(\"\\t{} {} - score {}\".format(w1, w2, value))\n",
    "            i += 1\n",
    "            if i == 5:\n",
    "                break"
   ]
  },
  {
   "cell_type": "markdown",
   "metadata": {},
   "source": [
    "### Task 10\n",
    "\n",
    "#### What types of bigrams have been found?\n",
    "In eight out of ten cases one of the parts is a substantive, with either preposition, adjective, conjunction, gerund or another noun. The last two were prepositions with abbreviations (which are just shortened versions of nouns) or adjectives. So in these types substantives are the most common.\n",
    "\n",
    "#### Which of the category-pairs indicate valuable multiword expressions? Do they have anything in common?\n",
    "Substantive-substantive, substantive-adjective and adjective substantive. Expressions like \"Skarb Państwa\", \"Rzeczpospolita Polska\" or \"walne zgromadzenie\" give much information about texts' character and topic.  \n",
    "All of them contain at least one noun.\n",
    "\n",
    "#### Which signal: LLR score or syntactic category is more useful for determining genuine multiword expressions?\n",
    "I think both were useful here. Syntactic categories provided variety in \"types\" of expressions, depending on text some pairs of categories might be more valuable than others. LLR score gave information about how often words appear with each other, without it we could only operate on number of occurences and we might miss many distinctive expressions, specific to processed text, because they would be buried under more general and popular expressions.\n",
    "\n",
    "#### Can you describe a different use-case where the morphosyntactic category is useful for resolving a real-world problem?\n",
    "Suggesting next word in phone's dictionaries. Autocompleting the whole sentence this way returns reasonable sentences already."
   ]
  }
 ],
 "metadata": {
  "kernelspec": {
   "display_name": "Python 3",
   "language": "python",
   "name": "python3"
  },
  "language_info": {
   "codemirror_mode": {
    "name": "ipython",
    "version": 3
   },
   "file_extension": ".py",
   "mimetype": "text/x-python",
   "name": "python",
   "nbconvert_exporter": "python",
   "pygments_lexer": "ipython3",
   "version": "3.7.3"
  }
 },
 "nbformat": 4,
 "nbformat_minor": 4
}
