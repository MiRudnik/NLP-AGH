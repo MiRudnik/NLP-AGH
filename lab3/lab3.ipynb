{
 "cells": [
  {
   "cell_type": "markdown",
   "metadata": {},
   "source": [
    "## Lab 3 - Levenshtein distance and spelling corrections"
   ]
  },
  {
   "cell_type": "code",
   "execution_count": 1,
   "metadata": {},
   "outputs": [],
   "source": [
    "import os\n",
    "import time\n",
    "\n",
    "import matplotlib.pyplot as plt\n",
    "import Levenshtein\n",
    "\n",
    "from collections import Counter\n",
    "\n",
    "from spacy.lang.pl import Polish\n",
    "from elasticsearch import Elasticsearch, helpers\n",
    "\n",
    "nlp = Polish()"
   ]
  },
  {
   "cell_type": "markdown",
   "metadata": {},
   "source": [
    "### Task 1\n",
    "\n",
    "Note: using `tokenizer = Tokenizer(nlp.vocab)` and `tokenizer(text)` (as it is suggested here: https://spacy.io/api/tokenizer#init) instead of `nlp(text)` resulted in not separating e.g. `:` or `,` from words but kept them as a single token."
   ]
  },
  {
   "cell_type": "code",
   "execution_count": 2,
   "metadata": {},
   "outputs": [
    {
     "name": "stdout",
     "output_type": "stream",
     "text": [
      "['\\n\\n\\n\\n', 'dz', '.', 'u', '.', 'z', '1993', 'r', '.', 'nr', '129', ',', 'poz', '.', '599', '\\n                                ', 'ustawa', '\\n                        ', 'z', 'dnia', '9', 'grudnia', '1993', 'r', '.', '\\n                                    \\n             ', 'o', 'zmianie', 'ustawy', 'o', 'podatku', 'od', 'towarów', 'i', 'usług', '\\n                        ', 'oraz', 'o', 'podatku', 'akcyzowym', '\\n                                    \\n                                    \\n                                ', 'art', '.', '1', '.', '\\n', 'w', 'ustawie', 'z', 'dnia', '8', 'stycznia', '1993', 'r', '.', 'o', 'podatku', 'od', 'towarów', 'i', 'usług', 'oraz', 'o', 'podatku', '\\n', 'akcyzowym', '(', 'dz', '.', 'u', '.', 'nr', '11', ',', 'poz', '.', '50', 'i', 'nr', '28', ',', 'poz', '.', '127', ')', 'wprowadza', 'się', 'następujące', '\\n', 'zmiany', ':', '\\n ', '1', ')', 'w', 'art', '.', '3', ':', '\\n    ', 'a', ')', 'dotychczasowa', 'treść', 'otrzymuje', 'oznaczenie', 'ust', '.', '1', ',', '\\n    ', 'b', ')', 'dodaje', 'się', 'ust', '.', '2', 'w', 'brzmieniu', ':', '\\n          ', '\"', '2', '.', 'rada', 'ministrów', 'może', 'określać', ',', 'w', 'drodze', 'rozporządzenia', ',', '\\n             ', 'towary', 'i', 'usługi', ',', 'z', 'wyjątkiem', 'wyrobów', 'akcyzowych', 'i', 'wyrobów', '\\n             ', 'z', 'metali', 'szlachetnych', ',']\n"
     ]
    }
   ],
   "source": [
    "bills_dir = \"../bills/\"\n",
    "bills_files = os.listdir(bills_dir)\n",
    "\n",
    "tokens_per_file = {}\n",
    "\n",
    "for file_path in [bills_dir + filename for filename in  bills_files]:\n",
    "    with open(file_path, 'r', encoding='utf-8') as file:\n",
    "        text = file.read()\n",
    "        tokens_per_file[file_path[9:]] = [token.text.lower() for token in nlp(text)]  # keep in lowercase\n",
    "        \n",
    "print(tokens_per_file['1993_599.txt'][:150])"
   ]
  },
  {
   "cell_type": "markdown",
   "metadata": {},
   "source": [
    "### Task 2\n",
    "\n",
    "Only counting the occurences, results still contain invalid characters."
   ]
  },
  {
   "cell_type": "code",
   "execution_count": 3,
   "metadata": {},
   "outputs": [
    {
     "name": "stdout",
     "output_type": "stream",
     "text": [
      "[('|', 1634), ('-', 858), ('\\n', 561), ('.', 497), ('   ', 485), (',', 306), ('w', 227), ('\"', 183), (')', 179), ('        ', 170)]\n"
     ]
    }
   ],
   "source": [
    "frequency_dict_per_file = {bill: Counter(tokens) for bill, tokens in tokens_per_file.items()}\n",
    "print(frequency_dict_per_file['1993_599.txt'].most_common(10))"
   ]
  },
  {
   "cell_type": "markdown",
   "metadata": {},
   "source": [
    "### Task 3"
   ]
  },
  {
   "cell_type": "code",
   "execution_count": 4,
   "metadata": {},
   "outputs": [
    {
     "name": "stdout",
     "output_type": "stream",
     "text": [
      "[('.', 441565), (',', 342866), ('w', 202063), ('\\n', 184442), (')', 100755), ('i', 90324), ('art', 84246), ('z', 82814), ('1', 73637), ('-', 66220)]\n"
     ]
    }
   ],
   "source": [
    "global_frequency_dict = sum(frequency_dict_per_file.values(), Counter())\n",
    "print(global_frequency_dict.most_common(10))"
   ]
  },
  {
   "cell_type": "markdown",
   "metadata": {},
   "source": [
    "### Task 4\n",
    "\n",
    "`str.isalpha()` method already handles polish diacritics, no need for special handling of them."
   ]
  },
  {
   "cell_type": "code",
   "execution_count": 5,
   "metadata": {},
   "outputs": [
    {
     "data": {
      "text/plain": [
       "True"
      ]
     },
     "execution_count": 5,
     "metadata": {},
     "output_type": "execute_result"
    }
   ],
   "source": [
    "\"ąężźłśćóĄĘŻŹŁŚĆÓMbankPozdrawia\".isalpha()"
   ]
  },
  {
   "cell_type": "code",
   "execution_count": 6,
   "metadata": {},
   "outputs": [
    {
     "name": "stdout",
     "output_type": "stream",
     "text": [
      "[('art', 84246), ('do', 60977), ('ust', 53686), ('na', 50805), ('lub', 46100), ('się', 46066), ('poz', 45481), ('nr', 45157), ('oraz', 33654), ('mowa', 28891)]\n"
     ]
    }
   ],
   "source": [
    "for token in list(global_frequency_dict.keys()):\n",
    "    if len(token) < 2 or not token.isalpha():\n",
    "        global_frequency_dict.pop(token)\n",
    "\n",
    "print(global_frequency_dict.most_common(10))"
   ]
  },
  {
   "cell_type": "markdown",
   "metadata": {},
   "source": [
    "### Task 5\n",
    "\n",
    "Cannot just sort by number of occurences and name with `reverse=True` because occurences are sorted in descending order and the name in ascending order.\n",
    "\n",
    "So: sort first by negated number of occurences (equals to sorting by the number as-is with `reverse=True` but doesn't set it for names) and by name in the second place."
   ]
  },
  {
   "cell_type": "code",
   "execution_count": 7,
   "metadata": {},
   "outputs": [
    {
     "name": "stdout",
     "output_type": "stream",
     "text": [
      "Expected: ['d', 'ab', 'ac', 'g', 'a']\n",
      "Bad:  ['d', 'g', 'ac', 'ab', 'a']\n",
      "Good:  ['d', 'ab', 'ac', 'g', 'a']\n"
     ]
    }
   ],
   "source": [
    "# proof that it works\n",
    "d = {'ac': 3, 'ab': 3, \"d\": 5, \"g\": 3, \"a\":1}\n",
    "print(\"Expected: ['d', 'ab', 'ac', 'g', 'a']\")\n",
    "dx1 = sorted(list(d.keys()), key=lambda x: (d[x], x), reverse=True)\n",
    "print(\"Bad: \", dx1)\n",
    "dx2 = sorted(list(d.keys()), key=lambda x: (-d[x], x))\n",
    "print(\"Good: \", dx2)"
   ]
  },
  {
   "cell_type": "code",
   "execution_count": 8,
   "metadata": {},
   "outputs": [
    {
     "name": "stdout",
     "output_type": "stream",
     "text": [
      "['art', 'do', 'ust', 'na', 'lub', 'się', 'poz', 'nr', 'oraz', 'mowa', 'nie', 'przez', 'pkt', 'dnia', 'których', 'od', 'po', 'jest', 'ustawy', 'może']\n",
      "[84246, 60977, 53686, 50805, 46100, 46066, 45481, 45157, 33654, 28891, 23069, 21026, 19287, 18051, 17996, 16774, 13601, 13252, 13205, 12148]\n"
     ]
    }
   ],
   "source": [
    "words_sorted = sorted(list(global_frequency_dict.keys()), key=lambda x: (-global_frequency_dict[x], x))\n",
    "words_sorted_values = [global_frequency_dict[token] for token in words_sorted]\n",
    "print(words_sorted[:20])\n",
    "print(words_sorted_values[:20])"
   ]
  },
  {
   "cell_type": "code",
   "execution_count": 9,
   "metadata": {},
   "outputs": [
    {
     "data": {
      "image/png": "[encoded data removed]",
      "text/plain": [
       "<Figure size 864x576 with 1 Axes>"
      ]
     },
     "metadata": {
      "needs_background": "light"
     },
     "output_type": "display_data"
    }
   ],
   "source": [
    "plt.figure(figsize=(12, 8))\n",
    "plt.semilogy(range(1, len(words_sorted) + 1), words_sorted_values)\n",
    "plt.show()"
   ]
  },
  {
   "cell_type": "markdown",
   "metadata": {},
   "source": [
    "### Task 6\n",
    "\n",
    "Form in the file is as follows:  \n",
    "`base form of the word;conjugated form;gramatic markers`  \n",
    "\n",
    "Example for some verb:  \n",
    "\n",
    "<pre>\n",
    "monitorować;monitorowali;verb:praet:pl:m1.p1:ter:imperf:refl.nonrefl  \n",
    "monitorować;monitorowaliby;verb:pot:pl:m1.p1:ter:imperf:refl.nonrefl  \n",
    "monitorować;monitorowalibyście;verb:pot:pl:m1.p1:sec:imperf:refl.nonrefl  \n",
    "...  \n",
    "monitorować;monitorowaną;ppas:sg:acc.inst:f:imperf:aff  \n",
    "monitorować;<b>monitorować</b>;verb:inf:imperf:refl.nonrefl  \n",
    "monitorować;monitorował;verb:praet:sg:m1.m2.m3:ter:imperf:refl.nonrefl  \n",
    "...\n",
    "</pre>\n",
    "\n",
    "To get all the words it is needed to the string between semicolons in each line, since base form also exists in the second column.  \n",
    "Also, there is no repetitions in this column because the third column contains markers for all contexts in which conjugated form can appear."
   ]
  },
  {
   "cell_type": "code",
   "execution_count": 10,
   "metadata": {},
   "outputs": [
    {
     "name": "stdout",
     "output_type": "stream",
     "text": [
      "['aa', 'jadwisinie', 'podlewscy', 'adiabatyczne', 'beksom', 'chmielarstwa', 'dnieprzańska', 'dzierżawin', 'futorzan', 'huba', 'kaszkiecikowo', 'kronikalnym', 'maltretowałyby', 'nabawilibyśmy', 'nataska', 'nieburmistrzujące', 'nieemblematowemu', 'niekataralnościom', 'niemobbowanie', 'nieodwiązywaniu', 'niepokąsana', 'nieprześwitającego', 'niesamiutenieńkiej', 'nietopielne', 'niewspółmyśląca', 'niezaspokajającym', 'obarzaneczkowi', 'odmyszaj', 'opryskałeś', 'persimon', 'podszczuwają', 'porozjaśniałyby', 'pośmigałobym', 'przepchanych', 'przysłowioznawstwom', 'romantycznościach', 'rozwijalna', 'sklejajcie', 'stopniowałoś', 'tanieją', 'ufilozoficzniły', 'uwzięci', 'wranglerach', 'wymakali', 'wyżelowałoś', 'zamatowywałaby', 'zbieliłyśmy', 'zorzy', 'żelazokrzemu']\n"
     ]
    }
   ],
   "source": [
    "polish_words_file = '../polimorfololgik-2.1/polimorfologik-2.1.txt'\n",
    "polimorfologik_words = []\n",
    "\n",
    "with open(polish_words_file, 'r', encoding='utf-8') as file:\n",
    "    lines = file.readlines()\n",
    "    for line in lines:\n",
    "        polimorfologik_words.append(line.split(\";\")[1].lower()) # also keep in lowercase\n",
    "    \n",
    "print(polimorfologik_words[::100000])  # print some words"
   ]
  },
  {
   "cell_type": "markdown",
   "metadata": {},
   "source": [
    "Skipping finding ALL the words that do not appear in dict on purpose. Checking for each of 55k words if it exists in list of 4.8m words takes too long."
   ]
  },
  {
   "cell_type": "code",
   "execution_count": 11,
   "metadata": {},
   "outputs": [],
   "source": [
    "# not_appearing_in_text = [word for word in words_sorted if word not in polimorfologik_words]\n",
    "# print(len(not_appearing_in_text))"
   ]
  },
  {
   "cell_type": "markdown",
   "metadata": {},
   "source": [
    "### Task 7\n",
    "\n",
    "Top 30 words by occurences in texts that do not appear in dictionary."
   ]
  },
  {
   "cell_type": "code",
   "execution_count": 12,
   "metadata": {},
   "outputs": [
    {
     "name": "stdout",
     "output_type": "stream",
     "text": [
      "['margin', 'późn', 'text', 'mso', 'face', 'panose', 'gmo', 'sa', 'iv', 'align', 'sww', 'justify', 'skw', 'div', 'line', 'ex', 'ike', 'autospace', 'none', 'vi', 'remediacji', 'vii', 'ure', 'family', 'uke', 'kn', 'cn', 'pkwiu', 'span', 'udt']\n"
     ]
    }
   ],
   "source": [
    "missing_words_top_30 = []\n",
    "i = 0\n",
    "\n",
    "for word in words_sorted:\n",
    "    if word not in polimorfologik_words:\n",
    "        i += 1\n",
    "        missing_words_top_30.append(word)\n",
    "        \n",
    "    if i == 30:\n",
    "        break\n",
    "        \n",
    "print(missing_words_top_30)"
   ]
  },
  {
   "cell_type": "markdown",
   "metadata": {},
   "source": [
    "### Task 8\n",
    "\n",
    "30 words that do not appear in dictionary and appeared in texts exactly 5 times."
   ]
  },
  {
   "cell_type": "code",
   "execution_count": 13,
   "metadata": {},
   "outputs": [
    {
     "name": "stdout",
     "output_type": "stream",
     "text": [
      "['wapnio', 'instrumen', 'xxii', 'anonimizacji', 'próbobiorców', 'rci', 'ekofizjograficznych', 'naliczeń', 'betezda', 'swine', 'contagious', 'teryto', 'rialnego', 'szcze', 'jed', 'tów', 'niskomorfinowego', 'adopcyjnoopiekuńczych', 'agave', 'inci', 'nym', 'pełnoporcjowej', 'pełnoporcjowych', 'odgazowywacze', 'sprawdzeń', 'rr', 'izobutyl', 'cznika', 'zawart', 'ośc']\n"
     ]
    }
   ],
   "source": [
    "missing_words_5_occurences = []\n",
    "i = 0\n",
    "\n",
    "for word in [word for word, value in global_frequency_dict.items() if value == 5]:\n",
    "    if word not in polimorfologik_words:\n",
    "        i += 1\n",
    "        missing_words_5_occurences.append(word)\n",
    "        \n",
    "    if i == 30:\n",
    "        break\n",
    "\n",
    "print(missing_words_5_occurences)"
   ]
  },
  {
   "cell_type": "markdown",
   "metadata": {},
   "source": [
    "### Task 9\n",
    "\n",
    "Tried also to ignore words not in polish dictionary but following code takes too long (stopped after 8+mins)."
   ]
  },
  {
   "cell_type": "code",
   "execution_count": 14,
   "metadata": {},
   "outputs": [],
   "source": [
    "# correct_words_in_texts = [word for word in words_sorted[:words_sorted_values.index(5)] if word in polimorfologik_words]"
   ]
  },
  {
   "cell_type": "markdown",
   "metadata": {},
   "source": [
    "Approach using Levenshtein distance and frequency dict:  \n",
    "- checking the words that are present in texts, not necessarily correct (because of problem above, also maybe if some word appears very often in text it is valid in this context and shouldn't be discarded even if doesn't appear in polish dictionary)\n",
    "- word must have appeared more than 5 times in texts (this spell checker will not suggest words that were rarely used and it may speed up the process).  \n",
    "\n",
    "This returns the word with the smallest distance that appeared the most is all the bills (first alphabetically in case of multiple options)."
   ]
  },
  {
   "cell_type": "code",
   "execution_count": 15,
   "metadata": {},
   "outputs": [
    {
     "name": "stdout",
     "output_type": "stream",
     "text": [
      "Took 0.3231673240661621 seconds.\n"
     ]
    }
   ],
   "source": [
    "start = time.time()\n",
    "my_substitutions = {}\n",
    "for word_to_replace in missing_words_5_occurences:\n",
    "    substitution = None\n",
    "    distance_best = 100\n",
    "    for word in words_sorted[:words_sorted_values.index(5)]:\n",
    "        dist = Levenshtein.distance(word_to_replace, word)\n",
    "        if 0 < dist < distance_best: # > 0 not to return self\n",
    "            distance_best = dist\n",
    "            substitution = word\n",
    "            if distance_best == 1:\n",
    "                break # we can't get better than that\n",
    "    my_substitutions[word_to_replace] = {'word': substitution, 'distance': distance_best}\n",
    "end = time.time()\n",
    "print(\"Took {} seconds.\".format(end - start))"
   ]
  },
  {
   "cell_type": "code",
   "execution_count": 16,
   "metadata": {},
   "outputs": [
    {
     "name": "stdout",
     "output_type": "stream",
     "text": [
      "Zamiana 'wapnio' na 'wapnia'\t- odległość Levenshteina = 1\n",
      "Zamiana 'instrumen' na 'instrument'\t- odległość Levenshteina = 1\n",
      "Zamiana 'xxii' na 'xii'\t- odległość Levenshteina = 1\n",
      "Zamiana 'anonimizacji' na 'mobilizacji'\t- odległość Levenshteina = 4\n",
      "Zamiana 'próbobiorców' na 'odbiorców'\t- odległość Levenshteina = 5\n",
      "Zamiana 'rci' na 'ci'\t- odległość Levenshteina = 1\n",
      "Zamiana 'ekofizjograficznych' na 'fizjograficznych'\t- odległość Levenshteina = 3\n",
      "Zamiana 'naliczeń' na 'odliczeń'\t- odległość Levenshteina = 2\n",
      "Zamiana 'betezda' na 'betel'\t- odległość Levenshteina = 3\n",
      "Zamiana 'swine' na 'swoje'\t- odległość Levenshteina = 2\n",
      "Zamiana 'contagious' na 'kontaktu'\t- odległość Levenshteina = 5\n",
      "Zamiana 'teryto' na 'tego'\t- odległość Levenshteina = 3\n",
      "Zamiana 'rialnego' na 'rolnego'\t- odległość Levenshteina = 2\n",
      "Zamiana 'szcze' na 'jeszcze'\t- odległość Levenshteina = 2\n",
      "Zamiana 'jed' na 'jej'\t- odległość Levenshteina = 1\n",
      "Zamiana 'tów' na 'ków'\t- odległość Levenshteina = 1\n",
      "Zamiana 'niskomorfinowego' na 'nieterminowego'\t- odległość Levenshteina = 6\n",
      "Zamiana 'adopcyjnoopiekuńczych' na 'opiekuńczych'\t- odległość Levenshteina = 9\n",
      "Zamiana 'agave' na 'dane'\t- odległość Levenshteina = 3\n",
      "Zamiana 'inci' na 'inni'\t- odległość Levenshteina = 1\n",
      "Zamiana 'nym' na 'tym'\t- odległość Levenshteina = 1\n",
      "Zamiana 'pełnoporcjowej' na 'eksportowej'\t- odległość Levenshteina = 6\n",
      "Zamiana 'pełnoporcjowych' na 'eksportowych'\t- odległość Levenshteina = 6\n",
      "Zamiana 'odgazowywacze' na 'opracowywanie'\t- odległość Levenshteina = 5\n",
      "Zamiana 'sprawdzeń' na 'sprawdza'\t- odległość Levenshteina = 2\n",
      "Zamiana 'rr' na 'nr'\t- odległość Levenshteina = 1\n",
      "Zamiana 'izobutyl' na 'izby'\t- odległość Levenshteina = 4\n",
      "Zamiana 'cznika' na 'wynika'\t- odległość Levenshteina = 2\n",
      "Zamiana 'zawart' na 'zawarte'\t- odległość Levenshteina = 1\n",
      "Zamiana 'ośc' na 'oś'\t- odległość Levenshteina = 1\n"
     ]
    }
   ],
   "source": [
    "for key, value in my_substitutions.items():\n",
    "    print(\"Zamiana '{}' na '{}'\\t- odległość Levenshteina = {}\".format(key, value['word'], value['distance']))"
   ]
  },
  {
   "cell_type": "markdown",
   "metadata": {},
   "source": [
    "### Task 10\n",
    "\n",
    "Here we load to ElasticSearch each word as a separate document and let it find the corrections."
   ]
  },
  {
   "cell_type": "code",
   "execution_count": 17,
   "metadata": {},
   "outputs": [
    {
     "name": "stdout",
     "output_type": "stream",
     "text": [
      "analysis-morfologik 7.9.2 Morfologik Polish Lemmatizer plugin for Elasticsearch\n",
      "\n"
     ]
    },
    {
     "data": {
      "text/plain": [
       "{'acknowledged': True, 'shards_acknowledged': True, 'index': 'polish_words'}"
      ]
     },
     "execution_count": 17,
     "metadata": {},
     "output_type": "execute_result"
    }
   ],
   "source": [
    "es = Elasticsearch()\n",
    "print(es.cat.plugins(params={'h': 'component,version,description'}))\n",
    "\n",
    "index_config = {\n",
    "    \"analysis\": {\n",
    "        \"analyzer\": {\n",
    "            \"default\": {\n",
    "                \"type\": \"custom\",\n",
    "                \"tokenizer\": \"keyword\" # no tokenization, no filters\n",
    "            }\n",
    "        }\n",
    "    }\n",
    "}\n",
    "\n",
    "index_name = \"polish_words\"\n",
    "\n",
    "if es.indices.exists(index=index_name): # in case of multiple runs, delete if index already exists\n",
    "    es.indices.delete(index=index_name)\n",
    "\n",
    "es.indices.create(index=index_name, body={\"settings\": index_config})"
   ]
  },
  {
   "cell_type": "code",
   "execution_count": 18,
   "metadata": {},
   "outputs": [
    {
     "name": "stdout",
     "output_type": "stream",
     "text": [
      "435.35061979293823 seconds to load all\n"
     ]
    }
   ],
   "source": [
    "t = time.time()\n",
    "bulk_query = [{'_index': index_name, 'word': word} for word in polimorfologik_words]\n",
    "helpers.bulk(es, bulk_query)\n",
    "print(time.time() - t, \"seconds to load all\")"
   ]
  },
  {
   "cell_type": "code",
   "execution_count": 19,
   "metadata": {},
   "outputs": [
    {
     "name": "stdout",
     "output_type": "stream",
     "text": [
      "Took 2.7001304626464844 seconds.\n"
     ]
    }
   ],
   "source": [
    "start = time.time()\n",
    "es_substitutions = {}\n",
    "\n",
    "for word in missing_words_5_occurences:\n",
    "    res = es.search(index=index_name, body={\"query\": {\"fuzzy\": {\"word\": {\"value\": word, \"fuzziness\": 6}}}})\n",
    "    es_substitutions[word] = [hit['_source']['word'] for hit in res['hits']['hits']]\n",
    "\n",
    "end = time.time()\n",
    "print(\"Took {} seconds.\".format(end - start))"
   ]
  },
  {
   "cell_type": "code",
   "execution_count": 21,
   "metadata": {},
   "outputs": [
    {
     "name": "stdout",
     "output_type": "stream",
     "text": [
      "Zamiana 'wapnio' na: ['wapnic', 'wapnico', 'wapnie', 'wapnia', 'wapnic', 'wapnico', 'wapnie', 'wapnie', 'wapnij', 'wapniom']\n",
      "Zamiana 'instrumen' na: ['instrument', 'instrumentu', 'instrumenty']\n",
      "Zamiana 'xxii' na: ['ilii', 'apii', 'arii', 'avii', 'xeni', 'akii', 'alii', 'amii', 'arii', 'avii']\n",
      "Zamiana 'anonimizacji' na: ['animizacji']\n",
      "Zamiana 'próbobiorców' na: ['pracobiorców', 'prądobiorców']\n",
      "Zamiana 'rci' na: ['irci', 'rai', 'rca', 'rai', 'roi', 'pci', 'raci', 'rai', 'rai', 'rei']\n",
      "Zamiana 'ekofizjograficznych' na: []\n",
      "Zamiana 'naliczeń' na: ['naliczek', 'naliczek', 'zaliczeń', 'haliczem', 'waliczek', 'baliczek', 'nacieczeń', 'naliczaj', 'naliczam', 'naliczać']\n",
      "Zamiana 'betezda' na: ['bereda', 'bereza', 'betela', 'etezja']\n",
      "Zamiana 'swine' na: ['seine', 'swing', 'sine', 'gwinea', 'gwinee', 'gwinei', 'gwineo', 'gwineą', 'gwineę', 'heine']\n",
      "Zamiana 'contagious' na: ['contagiom', 'contagium']\n",
      "Zamiana 'teryto' na: ['teryno', 'hetyto', 'tereso', 'tetydo', 'trytko', 'tryton', 'amryto', 'cerato', 'deruto', 'doryto']\n",
      "Zamiana 'rialnego' na: ['realnego', 'ciasnego', 'analnego', 'arealnego', 'atrialnego', 'ciasnego', 'cielnego', 'dualnego', 'finalnego', 'kurialnego']\n",
      "Zamiana 'szcze' na: ['sycze', 'sącze', 'czcze', 'sicze', 'sucze', 'szcza', 'szczek', 'szczen', 'szczep', 'szczep']\n",
      "Zamiana 'jed' na: ['jeż', 'bed', 'red', 'red', 'led', 'ted', 'wed', 'wed', 'jad', 'jeb']\n",
      "Zamiana 'tów' na: ['tuw', 'atów', 'mów', 'mów', 'nów', 'rów', 'stów', 'sów', 'tow', 'tzw']\n",
      "Zamiana 'niskomorfinowego' na: []\n",
      "Zamiana 'adopcyjnoopiekuńczych' na: []\n",
      "Zamiana 'agave' na: ['agape', 'agach', 'agacie', 'agada', 'agado', 'agady', 'agadą', 'agadę', 'agami', 'aganie']\n",
      "Zamiana 'inci' na: ['ince', 'ingi', 'inki', 'irci', 'vinci', 'enci', 'imci', 'ince', 'inii', 'inki']\n",
      "Zamiana 'nym' na: ['pym', 'nom', 'nyk', 'nys', 'tym', 'cnym', 'cym', 'cym', 'dym', 'dym']\n",
      "Zamiana 'pełnoporcjowej' na: []\n",
      "Zamiana 'pełnoporcjowych' na: []\n",
      "Zamiana 'odgazowywacze' na: ['odgazowywanie', 'odparowywacze', 'odgazowywane']\n",
      "Zamiana 'sprawdzeń' na: ['sprawczej', 'sprawczyń', 'sprawdzaj', 'sprawdzam', 'sprawdzać', 'sprawdzał', 'sprawdzeni', 'sprawdzić', 'sprawdził', 'prardzeń']\n",
      "Zamiana 'rr' na: ['ir', 'br', 'brr', 'ar', 'mrr', 're', 'rm', 'rn', 'ror', 'rp']\n",
      "Zamiana 'izobutyl' na: ['izobutan', 'izobuten', 'izobutylen', 'izobaty']\n",
      "Zamiana 'cznika' na: ['cynika', 'ocznika', 'sznika', 'cznia', 'znika', 'calika', 'capika', 'chinka', 'czacka', 'czaicka']\n",
      "Zamiana 'zawart' na: ['zapart', 'zawrat', 'zawarta', 'zawarta', 'zawarte', 'zawarte', 'zawarto', 'zawarto', 'zawarty', 'zawarty']\n",
      "Zamiana 'ośc' na: ['ośce', 'odc', 'ośca', 'ośce', 'ośce', 'ości', 'oścu', 'ośm', 'ość', 'oc']\n"
     ]
    }
   ],
   "source": [
    "for key, value in es_substitutions.items():\n",
    "    print(\"Zamiana '{}' na: {}\".format(key, value))"
   ]
  },
  {
   "cell_type": "markdown",
   "metadata": {},
   "source": [
    "### Task 11\n",
    "\n",
    "#### The distribution of words in the corpus:\n",
    "- Only one third of the words in corpus appeared more than 10 times.\n",
    "- Additionally, there is very few words that appear really often, which was expected (some words like conjunctions or ones connected to files' subject just need to appear often in texts, but overall there isn't many distinct words like that).\n",
    "\n",
    "#### The number of true misspellings vs. the number of unknown words:\n",
    "- Looking at the top 30 words that are not in a polish dictionary (task 7) the most are clearly unknown words, e.g.: \n",
    "    - english words like: *'margin', 'text, 'justify', 'autospace', 'span'* (maybe they were in the metadata which appeared at the end of some files as it was not filtered out)\n",
    "    - greek letters: *'iv', 'vi', 'vii'* (they were probably capitalized in text and it was clearer there)\n",
    "- Considering 30 words that occured only 5 times it is much more interesting:\n",
    "    - there are some obvious misspellings: *'zawart'* (missing last letter), *'adopcyjnoopiekuńczych'* (missing **-** between words)\n",
    "    - still some greek and perhaps abbreviations: *'xxii'*, *'rr'*\n",
    "    - words split on syllabels that were never connected together: *'wapnio'*(wy), *'instrumen'*(-talny), *'teryto'*, *'rialnego'*\n",
    "    - *'izobutyl'* - I guess chemical terminology is not considered \"polish\"\n",
    "    - no clue about these words: *'agave'*, *'swine'*, *'contagious'* (looks english again but in metadata such words appeared much more often)\n",
    "\n",
    "#### The performance of your method compared to ElasticSearch:\n",
    "- My solution: 0.32 seconds (base of 55k words)\n",
    "- ElasticSearch: 2.70 seconds (looking over 4.8m words)\n",
    "- It can be safely assumed that if both solutions would have similar size to work on, then ElasticSearch would be faster (it is now 10 times slower for 100 times more data to process)\n",
    "\n",
    "#### The results provided by your method compared to ElasticSearch:\n",
    "- My solution used solely words that appeared (more than 5 times) in analysed texts. Trying to remove words that are not in the dictionary would take to long to prepare the data. Additionally the result for each word was set to one (\"best\") candidate. \n",
    "- ElasticSearch's method was looking through all words in polish language (loaded all the words in reasonable time) but had no information of which words have appeared in texts or how often. It returned a few options to choose from, mostly having sense e.g.:  \n",
    "- In both solutions Levenshtein distance was correctly minimized, but there was a difference in base of words used.\n",
    " \n",
    "#### The validity of the obtained corrections:\n",
    "- It is difficult to judge validity since many of the words swere not clear errors.\n",
    "- My method never returned some non-polish words so not dropping them from the list didn't change anything in result (which is good).\n",
    "- If there was less text to process my approach would not have any sense since \n",
    "- Because of the reduced number of words to choose sometimes I got clear misses as an answer (e.g.: *'odgazowywacze' - 'opracowywanie', 'pełnoporcjowej' - 'eksportowej'*).\n",
    "- ElasticSearch had fuzziness limited not to return completely random words like in my solution (*'adopcyjnoopiekuńczych' - 'opiekuńczych'*)\n",
    "- Sometimes ElasticSearch returned more reasonable substitution: *'odgazowywacze' -> ['odgazowywanie', 'odparowywacze', 'odgazowywane'] vs 'opracowywanie'*, mainly because my method most likely did not know about such words\n",
    "- But sometimes less words proved to also be better: *'ekofizjograficznych' -> [] vs 'fizjograficznych'*\n",
    "- The ideal solution would lie somewhere inbetween these two (maybe adding weights to indicate that options from texts are better when distances are similar)."
   ]
  }
 ],
 "metadata": {
  "kernelspec": {
   "display_name": "Python 3",
   "language": "python",
   "name": "python3"
  },
  "language_info": {
   "codemirror_mode": {
    "name": "ipython",
    "version": 3
   },
   "file_extension": ".py",
   "mimetype": "text/x-python",
   "name": "python",
   "nbconvert_exporter": "python",
   "pygments_lexer": "ipython3",
   "version": "3.7.3"
  }
 },
 "nbformat": 4,
 "nbformat_minor": 4
}
