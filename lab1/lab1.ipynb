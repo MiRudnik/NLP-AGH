{
 "cells": [
  {
   "cell_type": "markdown",
   "metadata": {},
   "source": [
    "## Lab 1 - Regular expressions"
   ]
  },
  {
   "cell_type": "code",
   "execution_count": 1,
   "metadata": {},
   "outputs": [],
   "source": [
    "import os\n",
    "import regex\n",
    "import morfeusz2\n",
    "\n",
    "from matplotlib import pyplot as plt"
   ]
  },
  {
   "cell_type": "code",
   "execution_count": 2,
   "metadata": {},
   "outputs": [],
   "source": [
    "bills_dir = '../bills/'\n",
    "bills_files = os.listdir(bills_dir)"
   ]
  },
  {
   "cell_type": "markdown",
   "metadata": {},
   "source": [
    "### Tasks 1 & 2\n",
    "\n",
    "Types of units from: https://pl.wikipedia.org/wiki/Jednostka_redakcyjna_tekstu_prawnego  \n",
    "Skipping last two on purpose, didn't see any occurence in bills which would need to be counted (they also have vastly different construction).  \n",
    "\n",
    "Each unit name is followed by a number with possible letter (e.g. `art. 3a`), except from `lit.` which requires a letter and maybe closing parenthesis  \n",
    "(e.g. in file 2001_1444.txt: `pkt 8 lit. d otrzymuje brzmienie` and `pkt 4 lit. a) otrzymuje brzmienie`).  \n",
    "Also, sometimes there was no space between unit name and its number/letter - hence the `\\s?` in the list of units.  \n",
    "(e.g. in file 2001_475.txt: `skreśla się art.42`)."
   ]
  },
  {
   "cell_type": "code",
   "execution_count": 3,
   "metadata": {},
   "outputs": [
    {
     "name": "stdout",
     "output_type": "stream",
     "text": [
      "{1993: {'added': 32, 'modified': 56, 'removed': 5}, 1994: {'added': 99, 'modified': 156, 'removed': 34}, 1995: {'added': 327, 'modified': 337, 'removed': 83}, 1996: {'added': 491, 'modified': 821, 'removed': 211}, 1997: {'added': 642, 'modified': 1000, 'removed': 278}, 1998: {'added': 219, 'modified': 277, 'removed': 78}, 1999: {'added': 159, 'modified': 154, 'removed': 55}, 2000: {'added': 747, 'modified': 1363, 'removed': 316}, 2001: {'added': 1069, 'modified': 1226, 'removed': 259}, 2002: {'added': 87, 'modified': 108, 'removed': 1}, 2003: {'added': 988, 'modified': 1186, 'removed': 4}, 2004: {'added': 944, 'modified': 1135, 'removed': 1}}\n"
     ]
    }
   ],
   "source": [
    "units_condition = r\"(?:{})\".format(\"|\".join([r\"art\\.\\s?\\d+[a-z]?\", r\"ust\\.\\s?\\d+[a-z]?\", r\"pkt\\s?\\d+[a-z]?\",\n",
    "                                             r\"lit\\.\\s?(?:[a-z]\\)?|[a-z]\\)? i [a-z]\\)?)\", r\"§\\s?\\d+[a-z]?\"]))\n",
    "\n",
    "changes_by_year = {int(file[:4]): {'added': 0, 'modified': 0, 'removed': 0} for file in bills_files}\n",
    "sum_modified, sum_added, sum_removed = 0, 0, 0\n",
    "\n",
    "for file_path in [bills_dir + filename for filename in  bills_files]:\n",
    "    with open(file_path, 'r', encoding='utf-8') as file:\n",
    "        text = file.read()\n",
    "\n",
    "    modifications = regex.findall(r\"{} otrzymuje brzmienie\".format(units_condition), text, flags=regex.IGNORECASE)\n",
    "    additions = regex.findall(r\"dodaje się {}\".format(units_condition), text, flags=regex.IGNORECASE)\n",
    "    deletions = regex.findall(r\"skreśla się {}\".format(units_condition), text, flags=regex.IGNORECASE)\n",
    "\n",
    "    changes_by_year[int(file_path[9:13])]['modified'] += len(modifications)\n",
    "    changes_by_year[int(file_path[9:13])]['added'] += len(additions)\n",
    "    changes_by_year[int(file_path[9:13])]['removed'] += len(deletions)\n",
    "\n",
    "    sum_modified += len(modifications)\n",
    "    sum_added += len(additions)\n",
    "    sum_removed += len(deletions)\n",
    "        \n",
    "    # print(file_path, len(modifications), len(additions), len(deletions)) # to see values for each file\n",
    "\n",
    "print(changes_by_year)"
   ]
  },
  {
   "cell_type": "markdown",
   "metadata": {},
   "source": [
    "Above we can see all the changes grouped by year and change type."
   ]
  },
  {
   "cell_type": "markdown",
   "metadata": {},
   "source": [
    "### Task 3\n",
    "\n",
    "Plotting the percentage of each change type every year."
   ]
  },
  {
   "cell_type": "code",
   "execution_count": 4,
   "metadata": {},
   "outputs": [
    {
     "data": {
      "image/png": "[encoded data removed]",
      "text/plain": [
       "<Figure size 1080x576 with 1 Axes>"
      ]
     },
     "metadata": {
      "needs_background": "light"
     },
     "output_type": "display_data"
    }
   ],
   "source": [
    "years = list(changes_by_year.keys())\n",
    "y_added = [changes_by_year[year]['added'] / sum(changes_by_year[year].values()) * 100 for year in years]\n",
    "y_modified = [changes_by_year[year]['modified'] / sum(changes_by_year[year].values()) * 100 for year in years]\n",
    "y_removed = [changes_by_year[year]['removed'] / sum(changes_by_year[year].values()) * 100 for year in years]\n",
    "\n",
    "plt.figure(figsize=(15,8))\n",
    "\n",
    "plt.bar(years, y_added, label=\"Additions\")\n",
    "plt.bar(years, y_modified, label=\"Modifications\", bottom=y_added)\n",
    "plt.bar(years, y_removed, label=\"Deletions\", bottom=[sum(x) for x in zip(y_added, y_modified)])\n",
    "plt.xticks(years)\n",
    "plt.legend()\n",
    "plt.title(\"Percentages of change types in bills each year\")\n",
    "plt.show()"
   ]
  },
  {
   "cell_type": "markdown",
   "metadata": {},
   "source": [
    "From the figure we can see that deletions represented ~10-15% of all the changes each year until the year 2002 where it becomes barely visible.  \n",
    "Aside from that, sudden increase in additions in 1995 and increase of modifications in 2000 are the only ones that break the trend - additions ~40%, deletions 10-15% and modifications as the rest."
   ]
  },
  {
   "cell_type": "markdown",
   "metadata": {},
   "source": [
    "### Tasks 4-7\n",
    "\n",
    "All inflectional forms of the word `ustawa` are generated using morfeusz library. Then all the options (without the last one which is an abbreviation) are grouped into an alternative and surrounded by `\\b` word bound symbol - this way something like `USTAWiać` will not match the expression."
   ]
  },
  {
   "cell_type": "code",
   "execution_count": 5,
   "metadata": {},
   "outputs": [],
   "source": [
    "word_to_count = \"ustawa\"\n",
    "suffix1 = \" z dnia\"\n",
    "suffix2 = \" o zmianie\"\n",
    "\n",
    "count_raw, count_with_suffix1, count_without_suffix1, count_without_suffix2 = 0, 0, 0, 0\n",
    "\n",
    "morf = morfeusz2.Morfeusz()\n",
    "word_reg_expr = r\"\\b(?:{})\\b\".format(\"|\".join([\"{}\".format(x[0]) for x in morf.generate(word_to_count)[:-1]]))\n",
    "\n",
    "for file_path in [bills_dir + filename for filename in  bills_files]:\n",
    "    with open(file_path, 'r', encoding='utf-8') as file:\n",
    "        text = file.read()\n",
    "   \n",
    "    count_raw += len(regex.findall(word_reg_expr, text, regex.IGNORECASE))\n",
    "    count_with_suffix1 += len(regex.findall(\"{}(?={})\".format(word_reg_expr, suffix1), text, regex.IGNORECASE))\n",
    "    count_without_suffix1 += len(regex.findall(\"{}(?!{})\".format(word_reg_expr, suffix1), text, regex.IGNORECASE))\n",
    "    count_without_suffix2 += len(regex.findall(\"{}(?!{})\".format(word_reg_expr, suffix2), text, regex.IGNORECASE))"
   ]
  },
  {
   "cell_type": "code",
   "execution_count": 6,
   "metadata": {},
   "outputs": [
    {
     "name": "stdout",
     "output_type": "stream",
     "text": [
      "Occurrences of word 'ustawa'  25092\n",
      "Occurrences of word 'ustawa' followed by ' z dnia':  6979\n",
      "Occurrences of word 'ustawa' not followed by ' z dnia':  18113\n",
      "6979 + 18113 = 25092 == 25092 - Values match\n",
      "Occurrences of word 'ustawa' not followed by ' o zmianie':  25064\n"
     ]
    }
   ],
   "source": [
    "print(\"Occurrences of word 'ustawa' \", count_raw)\n",
    "print(\"Occurrences of word 'ustawa' followed by ' z dnia': \", count_with_suffix1)\n",
    "print(\"Occurrences of word 'ustawa' not followed by ' z dnia': \", count_without_suffix1)\n",
    "print(\"{} + {} = {} == {} - {}\".format(count_with_suffix1, count_without_suffix1, \n",
    "                                       count_with_suffix1 + count_without_suffix1, count_raw, \n",
    "                                       \"Values match\" if count_with_suffix1 + count_without_suffix1 == count_raw else \"???\"))\n",
    "print(\"Occurrences of word 'ustawa' not followed by ' o zmianie': \", count_without_suffix2)\n",
    "\n"
   ]
  },
  {
   "cell_type": "markdown",
   "metadata": {},
   "source": [
    "### Task 8\n",
    "\n",
    "Plotting the result of prior code."
   ]
  },
  {
   "cell_type": "code",
   "execution_count": 7,
   "metadata": {},
   "outputs": [
    {
     "data": {
      "image/png": "[encoded data removed]",
      "text/plain": [
       "<Figure size 1080x576 with 1 Axes>"
      ]
     },
     "metadata": {
      "needs_background": "light"
     },
     "output_type": "display_data"
    }
   ],
   "source": [
    "plt.figure(figsize=(15,8))\n",
    "plt.bar(\"ustawa\", count_raw)\n",
    "plt.bar(\"ustawa + z dnia\", count_with_suffix1)\n",
    "plt.bar(\"ustawa - z dnia\", count_without_suffix1)\n",
    "plt.bar(\"ustawa - o zmianie\", count_without_suffix2)\n",
    "plt.title(\"Occurrences of word ustawa\")\n",
    "plt.show()"
   ]
  },
  {
   "cell_type": "markdown",
   "metadata": {},
   "source": [
    "As we can see the first and forth bar are nearly identical which means that the word `ustawa` was barely ever followed by ` o zmianie`.  \n",
    "Also, we can deduce that the word `ustawa` was followed by `z dnia` roughly 25% of the time."
   ]
  }
 ],
 "metadata": {
  "kernelspec": {
   "display_name": "Python 3",
   "language": "python",
   "name": "python3"
  },
  "language_info": {
   "codemirror_mode": {
    "name": "ipython",
    "version": 3
   },
   "file_extension": ".py",
   "mimetype": "text/x-python",
   "name": "python",
   "nbconvert_exporter": "python",
   "pygments_lexer": "ipython3",
   "version": "3.7.3"
  }
 },
 "nbformat": 4,
 "nbformat_minor": 4
}