{
 "cells": [
  {
   "cell_type": "markdown",
   "metadata": {},
   "source": [
    "# Named entity recognition"
   ]
  },
  {
   "cell_type": "code",
   "execution_count": null,
   "metadata": {},
   "outputs": [],
   "source": [
    "import json\n",
    "import os\n",
    "import requests\n",
    "import time\n",
    "import xml.etree.ElementTree as ET\n",
    "\n",
    "from collections import Counter\n",
    "\n",
    "import matplotlib.pyplot as plt\n",
    "import nltk\n",
    "\n",
    "nltk.download('punkt')  # for tokenizers"
   ]
  },
  {
   "cell_type": "markdown",
   "metadata": {},
   "source": [
    "### Task 4"
   ]
  },
  {
   "cell_type": "code",
   "execution_count": 2,
   "metadata": {},
   "outputs": [],
   "source": [
    "bills_dir = \"../bills/\"\n",
    "bills_files = os.listdir(bills_dir)\n",
    "bills_files.sort(key=lambda f: os.path.getsize(bills_dir + f), reverse=True)\n",
    "\n",
    "top_50_bills = bills_files[:50]"
   ]
  },
  {
   "cell_type": "markdown",
   "metadata": {},
   "source": [
    "### Task 5\n",
    "First splitting sentences, then lemmatising found expressions.  \n",
    "I am looking for named entities WITHOUT interpunction in them, I treat names with commas as separate entities.  \n",
    "(in my opinion enumerated names should appear more often than names with actual commas in them)"
   ]
  },
  {
   "cell_type": "code",
   "execution_count": 3,
   "metadata": {},
   "outputs": [],
   "source": [
    "def get_lemma(expr):\n",
    "    res = requests.post('http://localhost:9200', data=expr.encode('UTF-8')).text\n",
    "    lemmas = []\n",
    "    for line in res.splitlines():\n",
    "        split = line.split()\n",
    "        if len(split) == 3:\n",
    "            lemmas.append(split[0].lower())  # lowercasing manually\n",
    "    return \" \".join(lemmas)"
   ]
  },
  {
   "cell_type": "code",
   "execution_count": 4,
   "metadata": {},
   "outputs": [],
   "source": [
    "entities = Counter()\n",
    "\n",
    "for bill in top_50_bills:\n",
    "    with open(bills_dir + bill, encoding='utf-8') as file:\n",
    "        sentences = nltk.tokenize.sent_tokenize(file.read(), language='polish')\n",
    "        for sent in sentences:\n",
    "            words = nltk.tokenize.word_tokenize(sent, language='polish')\n",
    "            raw_expression = []\n",
    "            for word in words[1:]:  # with used tokenizer each sentence should end with a full stop\n",
    "                # isalpha to remove abbreviations which were not split\n",
    "                #  e.g. very often: \"Dz.U.\" -> [\"Dz.U\", \".\"] -> \"dziennik . u\" (Dz.U. is an unknown abbreviation here and weird things happen)\n",
    "                if word[0].isupper() and word.isalpha():\n",
    "                    raw_expression.append(word)\n",
    "                elif raw_expression:\n",
    "                    entities[get_lemma(\" \".join(raw_expression))] += 1\n",
    "                    raw_expression = []\n",
    "                else:\n",
    "                    raw_expression = []"
   ]
  },
  {
   "cell_type": "markdown",
   "metadata": {},
   "source": [
    "### Task 6"
   ]
  },
  {
   "cell_type": "code",
   "execution_count": 7,
   "metadata": {},
   "outputs": [
    {
     "name": "stdout",
     "output_type": "stream",
     "text": [
      "numer - 7578\n",
      "minister - 1273\n",
      "rzeczpospolita polski - 725\n",
      "kodeks - 524\n",
      "policja - 460\n",
      "przepis - 424\n",
      "skarb państwo - 395\n",
      "organ - 354\n",
      "prawo - 352\n",
      "kasa chory - 299\n",
      "unia europejski - 294\n",
      "straż graniczny - 286\n",
      "minister obrona narodowy - 284\n",
      "rada minister - 280\n",
      "minister sprawiedliwość - 277\n",
      "państwowy komisja wyborczy - 268\n",
      "państwowy straż pożarny - 241\n",
      "minister finanse - 239\n",
      "zakład - 230\n",
      "fundusz - 200\n",
      "rada - 192\n",
      "prezes urząd - 181\n",
      "azot - 180\n",
      "art - 176\n",
      "zmiana - 173\n",
      "urząd patentowy - 173\n",
      "rozdział - 149\n",
      "urząd ochrona państwo - 141\n",
      "tkanina - 141\n",
      "pozostały - 140\n",
      "prezes rada minister - 134\n",
      "i - 131\n",
      "nawóz - 118\n",
      "ii - 117\n",
      "efta - 114\n",
      "komisja - 109\n",
      "biuro - 109\n",
      "inspektor nadzór wewnętrzny - 109\n",
      "administracja - 107\n",
      "europejski porozumienie - 105\n",
      "wolny handel - 105\n",
      "europejski obszar gospodarczy - 103\n",
      "zamawiać - 103\n",
      "minister sprawa wewnętrzny - 101\n",
      "sąd wysoki - 98\n",
      "urząd - 97\n",
      "sejm - 95\n",
      "ordynacja - 94\n",
      "siła zbrojny - 94\n",
      "maszyna - 94\n"
     ]
    }
   ],
   "source": [
    "for ent, count in entities.most_common(50):\n",
    "    print(ent, \"-\", count)"
   ]
  },
  {
   "cell_type": "markdown",
   "metadata": {},
   "source": [
    "### Task 7"
   ]
  },
  {
   "cell_type": "code",
   "execution_count": 9,
   "metadata": {},
   "outputs": [],
   "source": [
    "base_url = 'http://ws.clarin-pl.eu/nlprest2/base'\n",
    "lpmn='any2txt|wcrft2|liner2({\"model\":\"n82\"})'\n",
    "\n",
    "# start tasks\n",
    "tasks = []\n",
    "for bill_filename in top_50_bills:\n",
    "    with open(bills_dir + bill_filename, encoding='utf-8') as file:\n",
    "        text = file.read()\n",
    "    tasks.append(requests.post(url=\"http://ws.clarin-pl.eu/nlprest2/base/startTask\", json={\"text\": text, \"lpmn\": lpmn, \"user\": 'user1'}).text)"
   ]
  },
  {
   "cell_type": "code",
   "execution_count": 16,
   "metadata": {},
   "outputs": [
    {
     "name": "stdout",
     "output_type": "stream",
     "text": [
      "Loaded: e940cf7f-38e8-4771-8682-689eaa122a35\n",
      "Loaded: 89efbbd5-86bf-4a09-91ae-f6f95c4e0cb1\n",
      "Loaded: 844d64d6-c326-42b2-905b-48e986ce4df8\n",
      "Loaded: 808242c9-3133-4efb-8def-88c369d315d4\n",
      "Loaded: 49528cf5-ad94-47c8-8312-81e8c9312b9e\n",
      "Loaded: e25195a4-82bf-44c5-ae2b-300389233c7a\n",
      "Loaded: a09b373a-5757-4bcc-a2fc-ae422de49008\n",
      "Loaded: 68560e37-5b43-49f6-9c8e-e5bd37e569f7\n",
      "Loaded: a7453b3b-cfc7-4050-b890-4957b1a57c3e\n",
      "Loaded: c1b2383c-c065-4e6b-8d51-95eec0af054e\n",
      "Loaded: ae39e61b-9535-4f0b-a605-aa67327e45f2\n",
      "Loaded: 40f67c33-578b-4dc1-8499-3c1470b81bc9\n",
      "Loaded: 55576c88-c1eb-44d4-a887-c6c685a4a942\n",
      "Loaded: 972370db-cc9d-4fe5-8b02-8fe83a8ef7fb\n",
      "Loaded: 1322135d-a6be-48b4-b887-6ed389e96bd5\n",
      "Loaded: b1071045-7d91-4c08-970b-7e6ef92f38d6\n",
      "Loaded: 0f21f99e-c8da-4791-be1c-6cf1f6f0ae2a\n",
      "Loaded: 56382587-8995-49e5-ba10-08de3b660e71\n",
      "Loaded: 77ded88b-72c8-4c4f-9b58-6cde06aa0ffd\n",
      "Loaded: 2014d9c5-9981-4397-a7dc-2e2ed32aaf2d\n",
      "Loaded: 3f86e136-27dc-413c-ad75-35c44cf17b80\n",
      "Loaded: aad76153-2dcc-427c-8489-c0de57451c46\n",
      "Loaded: 14cf0c56-9026-4e7d-994a-a0b9005fa617\n",
      "Loaded: 0aec46f8-ba05-4e4e-8114-6cd9e32a2c9d\n",
      "Loaded: cd64ba9a-b91b-4cd8-a4fe-bff7e64559f4\n",
      "Loaded: 0e7713b0-f45f-47bc-ab6c-985aed22dc5e\n",
      "Loaded: c904f315-abe0-4391-97a3-f70512ed6ac9\n",
      "Loaded: 87035149-a285-4044-94b4-3f2223385dd6\n",
      "Loaded: 825b666c-437c-4ef0-b049-cc1ec9aee4af\n",
      "Loaded: 7c7d2be2-4803-4ed7-b815-dcced8cd55ea\n",
      "Loaded: 3e365b29-2848-4555-97f2-fb5bb3ba93f4\n",
      "Loaded: a8ebe001-10f4-47fa-afa9-9b990b41ddfd\n",
      "Loaded: 2471c932-9609-47d6-b4b4-b4327518d23f\n",
      "Loaded: f4a22f05-6413-47d1-ab33-41ce298acca5\n",
      "Loaded: eae7a02f-dd64-47c4-8574-d3458ddac7a3\n",
      "Loaded: 84114db0-eccc-485d-b4e8-95595201f383\n",
      "Loaded: 06b0b6eb-1043-4861-9410-095ea9eb6c88\n",
      "Loaded: 58da10de-f61d-442b-a3f9-13a145b79e3a\n",
      "Loaded: 4fa6b604-9486-4492-9bd9-9c193d8e2dd1\n",
      "Loaded: ee3eb926-3d31-4a13-90f7-cb0ca4f5beec\n",
      "Loaded: 17a636eb-03af-407f-981a-fce3554d6492\n",
      "Loaded: 73a36986-67b5-405f-85b6-987ac5d180fa\n",
      "Loaded: d326c2e7-46ca-4664-bc68-49707fe46349\n",
      "Loaded: 900d4744-3d81-42f7-b798-f0555479b48c\n",
      "Loaded: ba51f7dd-eb3e-4cdc-abef-3de319970a3c\n",
      "Loaded: 00492ec2-29d4-4fac-bf92-d698635585b2\n",
      "Loaded: 4a91982e-6ce1-4f45-affb-8f4c678b28ae\n",
      "Loaded: 94643346-b5fb-4488-8356-617d52ed9275\n",
      "Loaded: 2f225eac-5022-4971-9a32-f98c0120bbf4\n",
      "Loaded: 99d5d6d2-f44c-492d-81af-0eb41fd7c871\n"
     ]
    }
   ],
   "source": [
    "# check for completion and download result\n",
    "for task in tasks:\n",
    "    \n",
    "    while True:\n",
    "        response = json.loads(requests.get(base_url + \"/getStatus/\" + task).text)\n",
    "        if response['status'] in [\"QUEUE\", \"PROCESSING\"]:\n",
    "            time.sleep(5)\n",
    "        elif response['status'] == \"DONE\":\n",
    "            file_id = response[\"value\"][0][\"fileID\"]\n",
    "            response = requests.get(url=base_url + \"/download\" + file_id)\n",
    "            with open(\"ccl/\" + task, 'w', encoding=\"utf-8\") as file:\n",
    "                file.write(response.content.decode(\"utf-8\"))\n",
    "            print(\"Loaded:\", task)\n",
    "            break\n",
    "        else:\n",
    "            print(\"FAIL -\", task)\n",
    "            break"
   ]
  },
  {
   "cell_type": "markdown",
   "metadata": {},
   "source": [
    "### Task 8\n",
    "\n",
    "Based on examples from tutorial: https://github.com/CLARIN-PL/NlpRest2-Tutorials"
   ]
  },
  {
   "cell_type": "code",
   "execution_count": 118,
   "metadata": {},
   "outputs": [],
   "source": [
    "class Token:\n",
    "    \n",
    "    def __init__(self, orth, base, ctag):\n",
    "        self.orth = orth\n",
    "        self.base = base\n",
    "        self.ctag = ctag\n",
    "        \n",
    "    def get_orth(self):\n",
    "        return self.orth\n",
    "        \n",
    "\n",
    "class Annotation:\n",
    "    \n",
    "    def __init__(self, category, tokens):\n",
    "        self.category = category\n",
    "        self.tokens = tokens\n",
    "        self.lemma = self.get_orth()\n",
    "        \n",
    "    def get_category(self):\n",
    "        return self.category\n",
    "    \n",
    "    def get_orth(self):\n",
    "        return \" \".join([token.get_orth() for token in self.tokens])\n",
    "    \n",
    "    def get_lemma(self):\n",
    "        return self.lemma\n",
    "    \n",
    "\n",
    "def sentence_ner(sentence):\n",
    "    channels = {}\n",
    "    for token in sentence.iter(\"tok\"):\n",
    "        orth = token.find(\"./orth\").text\n",
    "        base = token.find(\"./lex/base\").text\n",
    "        ctag = token.find(\"./lex/ctag\").text\n",
    "        t = Token(orth, base, ctag)\n",
    "        for channel in token.iter(\"ann\"):            \n",
    "            index = int(channel.text)\n",
    "            chan = channel.attrib[\"chan\"]            \n",
    "            if index > 0:                \n",
    "                channels.setdefault(chan, {}).setdefault(index, []).append(t)\n",
    "                \n",
    "    annotations = []\n",
    "    for (ann_type, group) in channels.items():\n",
    "        for tokens in group.values():            \n",
    "            an = Annotation(ann_type, tokens)\n",
    "            annotations.append(an)\n",
    "    \n",
    "    return annotations\n",
    "\n",
    "\n",
    "def ccl_ner(file):\n",
    "    tree = ET.parse(file)\n",
    "    annotations = []\n",
    "    for sentence in tree.iter(\"sentence\"):\n",
    "        annotations += sentence_ner(sentence)\n",
    "    return annotations"
   ]
  },
  {
   "cell_type": "code",
   "execution_count": 119,
   "metadata": {},
   "outputs": [],
   "source": [
    "course_grained_freq = Counter()\n",
    "course_grained_entity_freq = {}  # for Task 9\n",
    "fine_grained_entity_freq = Counter()  # for Task 10\n",
    "\n",
    "for task in tasks:\n",
    "    annotations = ccl_ner(\"ccl/\" + task)\n",
    "    for annotation in annotations:\n",
    "        category = annotation.get_category()\n",
    "        entity = annotation.get_lemma()\n",
    "        course_category = \"_\".join(category.split(\"_\")[:2])\n",
    "        course_grained_freq[course_category] += 1\n",
    "        course_grained_entity_freq.setdefault(course_category, Counter())[entity] += 1\n",
    "        fine_grained_entity_freq[(entity, category)] += 1"
   ]
  },
  {
   "cell_type": "code",
   "execution_count": 120,
   "metadata": {},
   "outputs": [
    {
     "data": {
      "image/png": "[encoded data removed]",
      "text/plain": [
       "<Figure size 864x576 with 1 Axes>"
      ]
     },
     "metadata": {
      "needs_background": "light"
     },
     "output_type": "display_data"
    }
   ],
   "source": [
    "plt.figure(figsize=(12, 8))\n",
    "sorted_course_grained_freq = {k: v for k, v in sorted(course_grained_freq.items(), key=lambda item: item[1], reverse=True)}\n",
    "plt.bar(list(sorted_course_grained_freq.keys()), sorted_course_grained_freq.values())\n",
    "plt.xlabel(\"Course grained category\")\n",
    "plt.ylabel(\"Frequency\")\n",
    "plt.show()"
   ]
  },
  {
   "cell_type": "markdown",
   "metadata": {},
   "source": [
    "### Task 9"
   ]
  },
  {
   "cell_type": "code",
   "execution_count": 121,
   "metadata": {},
   "outputs": [
    {
     "name": "stdout",
     "output_type": "stream",
     "text": [
      "\n",
      "nam_pro:\n",
      "\tDz . U . - 1534\n",
      "\tDz . Urz - 80\n",
      "\tOrdynacja podatkowa - 71\n",
      "\tKodeksu karnego - 64\n",
      "\tMonitor Polski - 62\n",
      "\tSpraw Wewnętrznych - 51\n",
      "\tKodeksu postępowania administracyjnego - 35\n",
      "\tKodeksu postępowania karnego - 33\n",
      "\tKodeksu postępowania cywilnego - 32\n",
      "\tNatura 2000 - 26\n",
      "\n",
      "nam_org:\n",
      "\tSkarbu Państwa - 295\n",
      "\tUnii Europejskiej - 291\n",
      "\tRada Ministrów - 261\n",
      "\tPaństwowej Straży Pożarnej - 239\n",
      "\tMinister Sprawiedliwości - 233\n",
      "\tPrezes Rady Ministrów - 213\n",
      "\tMinister Obrony Narodowej - 162\n",
      "\tMinister Finansów - 152\n",
      "\tUrzędu Ochrony Państwa - 137\n",
      "\tEFTA - 114\n",
      "\n",
      "nam_loc:\n",
      "\tRzeczypospolitej Polskiej - 812\n",
      "\tRzeczpospolita Polska - 52\n",
      "\tPolsce - 51\n",
      "\tRzeczpospolitą Polską - 39\n",
      "\tWarszawie - 32\n",
      "\tWarszawy - 20\n",
      "\tNawóz - 19\n",
      "\tWarszawa - 16\n",
      "\tKonfederacji Szwajcarskiej - 11\n",
      "\tPolską - 10\n",
      "\n",
      "nam_liv:\n",
      "\tKasa Chorych - 51\n",
      "\tStraży Granicznej - 36\n",
      "\tSił Zbrojnych - 24\n",
      "\tKasy Chorych - 21\n",
      "\tArt - 18\n",
      "\tPana - 18\n",
      "\tGospodarki Żywnościowej - 16\n",
      "\tKrajowego Depozytu - 15\n",
      "\tPan - 15\n",
      "\tKas Chorych - 13\n",
      "\n",
      "nam_eve:\n",
      "\tEURO - 5\n",
      "\tMonitorze Sądowym - 2\n",
      "\tPrzejściowego Planu Krajowego - 2\n",
      "\tGeneralny Konserwator Zabytków - 1\n",
      "\tOchrony Roślin - 1\n",
      "\tNarodowy Bank Polski - 1\n",
      "\tMiędzynarodowe Standardy Rachunkowości - 1\n",
      "\tII wojny światowej - 1\n",
      "\tOddział 2 Tranzyt - 1\n",
      "\tX . Opieka domowa nad dziećmi - 1\n",
      "\n",
      "nam_adj:\n",
      "\tpolski - 116\n",
      "\tpolskiej - 30\n",
      "\tpolskiego - 16\n",
      "\tWojewódzki - 16\n",
      "\tpolskim - 10\n",
      "\tpolska - 9\n",
      "\tpolskich - 7\n",
      "\tpolską - 7\n",
      "\tmazowiecki - 7\n",
      "\teuropejskie - 5\n",
      "\n",
      "nam_fac:\n",
      "\tInspektor Nadzoru Wewnętrznego - 49\n",
      "\tKomendant Główny - 16\n",
      "\tStraży Granicznej - 11\n",
      "\tMangan - 8\n",
      "\tObrony Narodowej - 6\n",
      "\tKrajowego Rejestru Karnego - 5\n",
      "\tMolibden - 4\n",
      "\tZatoki Gdańskiej - 4\n",
      "\tZasłużonego Dawcy Przeszczepu - 4\n",
      "\tMn - 3\n",
      "\n",
      "nam_oth:\n",
      "\tzł - 293\n",
      "\teuro - 89\n",
      "\tzłotych - 41\n",
      "\tEURO - 29\n",
      "\tPESEL - 14\n",
      "\tBAT - 12\n",
      "\tPLN - 10\n",
      "\tMinister Edukacji Narodowej - 8\n",
      "\tNIP - 7\n",
      "\tECU - 7\n",
      "\n",
      "nam_num:\n",
      "\t1 - 13\n",
      "\t112 - 1\n"
     ]
    }
   ],
   "source": [
    "for course_category, entity_freq in course_grained_entity_freq.items():\n",
    "    print(\"\\n{}:\".format(course_category))\n",
    "    sorted_entity_freq = {k: v for k, v in sorted(entity_freq.items(), key=lambda kv: kv[1], reverse=True)}\n",
    "    for entity, count in list(sorted_entity_freq.items())[:10]:\n",
    "        print(\"\\t{} - {}\".format(entity, count))"
   ]
  },
  {
   "cell_type": "markdown",
   "metadata": {},
   "source": [
    "### Task 10"
   ]
  },
  {
   "cell_type": "code",
   "execution_count": 122,
   "metadata": {},
   "outputs": [
    {
     "name": "stdout",
     "output_type": "stream",
     "text": [
      "Dz . U . - nam_pro_media_periodic - 1534\n",
      "Rzeczypospolitej Polskiej - nam_loc_gpe_country - 812\n",
      "Skarbu Państwa - nam_org_institution - 295\n",
      "zł - nam_oth_currency - 293\n",
      "Unii Europejskiej - nam_org_organization - 290\n",
      "Rada Ministrów - nam_org_institution - 261\n",
      "Minister Sprawiedliwości - nam_org_institution - 233\n",
      "Prezes Rady Ministrów - nam_org_institution - 213\n",
      "Państwowej Straży Pożarnej - nam_org_organization - 205\n",
      "Minister Obrony Narodowej - nam_org_institution - 162\n",
      "Minister Finansów - nam_org_institution - 152\n",
      "Urzędu Ochrony Państwa - nam_org_institution - 137\n",
      "polski - nam_adj_country - 116\n",
      "EFTA - nam_org_organization - 114\n",
      "Państwowa Komisja Wyborcza - nam_org_institution - 110\n",
      "Urząd Patentowy - nam_org_institution - 104\n",
      "Europejskiego Porozumienia o Wolnym Handlu - nam_org_company - 103\n",
      "Skarb Państwa - nam_org_institution - 98\n",
      "Państwowej Komisji Wyborczej - nam_org_institution - 98\n",
      "euro - nam_oth_currency - 89\n",
      "Prezes Urzędu - nam_org_institution - 88\n",
      "OKRĘG - nam_org_organization - 81\n",
      "Okręgowej Komisji Wyborczej - nam_org_institution - 81\n",
      "Dz . Urz - nam_pro_media_periodic - 80\n",
      "Sejmu - nam_org_institution - 73\n",
      "Ordynacja podatkowa - nam_pro_title_document - 71\n",
      "Prezesa Urzędu - nam_org_institution - 71\n",
      "BSWSG - nam_org_organization - 70\n",
      "Kodeksu karnego - nam_pro_title_document - 64\n",
      "Ministrem Obrony Narodowej - nam_org_institution - 63\n",
      "Monitor Polski - nam_pro_title - 62\n",
      "Minister Zdrowia i Opieki Społecznej - nam_org_institution - 59\n",
      "Wspólnoty Europejskiej - nam_org_organization - 57\n",
      "WE - nam_org_organization - 55\n",
      "Sąd Najwyższy - nam_org_institution - 53\n",
      "Komisji Europejskiej - nam_org_institution - 53\n",
      "Rzeczpospolita Polska - nam_loc_gpe_country - 52\n",
      "Ministra Sprawiedliwości - nam_org_institution - 52\n",
      "Polsce - nam_loc_gpe_country - 51\n",
      "Dzienniku Urzędowym Rzeczypospolitej Polskiej \" - nam_org_institution - 51\n",
      "Sądu Najwyższego - nam_org_institution - 51\n",
      "Kasa Chorych - nam_liv_person - 51\n",
      "Spraw Wewnętrznych - nam_pro_title - 51\n",
      "Senatu - nam_org_institution - 49\n",
      "Inspektor Nadzoru Wewnętrznego - nam_fac_goe - 49\n",
      "Biura Ochrony Rządu - nam_org_institution - 48\n",
      "Prezes Urzędu Regulacji Energetyki - nam_org_institution - 47\n",
      "Państwową Komisję Wyborczą - nam_org_institution - 44\n",
      "Straży Granicznej - nam_org_institution - 44\n",
      "Inspekcji Weterynaryjnej - nam_org_institution - 43\n"
     ]
    }
   ],
   "source": [
    "sorted_fine_grained_entity_freq = {k: v for k, v in sorted(fine_grained_entity_freq.items(), key=lambda kv: kv[1], reverse=True)}\n",
    "for (entity, category), count in list(sorted_fine_grained_entity_freq.items())[:50]:\n",
    "    print(\"{} - {} - {}\".format(entity, category, count))"
   ]
  },
  {
   "cell_type": "markdown",
   "metadata": {},
   "source": [
    "### Task 11\n",
    "#### Which of the method (counting expressions with capital letters vs. NER) worked better for the task concerned with identification of the proper names?\n",
    "NER gave much more reasonable results. In the top fifty entities only a few stood out as invalid, whereas capital letters method returned many common nouns (maybe they were split by conjunctions?).\n",
    "#### What are the drawbacks of the method based on capital letters?\n",
    "- If proper name contains conjunctions, which are often (if not always) written in lowercase, this method would split it into multiple entities (e.g. \"Minister Zdrowia i Opieki Społecznej\" from NER results)  \n",
    "- Anything capitalised would be caught here (e.g. `numer`, `azot`, `tkanina` in these texts, roman numerals)\n",
    "- Either we assume that proper names cannot have commas or other interpunction in them (which is not true) and split entities on such symbols, or we allow/ignore them which also may yield incorrect results (e.g. in somethin like \"na terenie Polski, Szwecji, ...\" we would get one big named entity)\n",
    "#### What are the drawbacks of the method based on NER?\n",
    "- Doesn't have any context of sentences (a result of this was that many words had different base form than expected)\n",
    "- Slower than the first one\n",
    "#### Which of the coarse-grained NER groups has the best and which has the worst results? Try to justify this observation.\n",
    "We cannot tell anything about recall of this method just by looking at these results but we can see which of the groups had some incorrect/weird results.  \n",
    "- the best: `nam_org` and `nam_adj` - here all ten entities look correct, but they also look like the easiest of all groups\n",
    "- the worst: `nam_liv` - 'Pan'/'Pana' is just a title (I don't know if it under \"named entity\"), but \"Gospodarki Żywnościowej\" or \"Art\" surely is not about living things\n",
    "- there is also `nam_num` which is nearly empty so it's hard to tell what SHOULD happen here and `nam_eve`where there were only single occurences of entities\n",
    "#### Do you think NER is sufficient for identifying different occurrences of the same entity (i.e. consider \"USA\" and \"Stany Zjednoczone\" and \"Stany Zjednoczone Ameryki Północnej\") ? If not, can you suggest an algorithm or a tool that would be able to group such names together?\n",
    "NER does not have any knowledge of synonyms so it won't work for this problem. Anything that has some synonym/abbreviation data could be of use here (e.g. Wordnet from exercise 6).\n",
    "#### Can you think of a real world problem that would benefit the most from application of Named Entity Recognition algorithm?\n",
    "Suggesting relevant articles to read (both in something like Wikipedia and for more scientific texts)."
   ]
  }
 ],
 "metadata": {
  "kernelspec": {
   "display_name": "Python 3",
   "language": "python",
   "name": "python3"
  },
  "language_info": {
   "codemirror_mode": {
    "name": "ipython",
    "version": 3
   },
   "file_extension": ".py",
   "mimetype": "text/x-python",
   "name": "python",
   "nbconvert_exporter": "python",
   "pygments_lexer": "ipython3",
   "version": "3.7.3"
  }
 },
 "nbformat": 4,
 "nbformat_minor": 4
}
